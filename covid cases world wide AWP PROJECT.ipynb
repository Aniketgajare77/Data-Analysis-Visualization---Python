{
 "cells": [
  {
   "cell_type": "markdown",
   "id": "19f3c078",
   "metadata": {},
   "source": [
    "# Exploratory Data Analysis of Covid Cases and Deaths WorldWide"
   ]
  },
  {
   "cell_type": "markdown",
   "id": "506155eb",
   "metadata": {},
   "source": [
    "I found the dataset of car details from car dekho from Kaggle\n",
    "\n",
    "Link of the Dataset:https://www.kaggle.com/datasets/themrityunjaypathak/covid-cases-and-deaths-worldwide"
   ]
  },
  {
   "cell_type": "code",
   "execution_count": 1,
   "id": "2a9bd793",
   "metadata": {},
   "outputs": [],
   "source": [
    "import pandas as pd\n",
    "import numpy as np\n",
    "import matplotlib.pyplot as plt\n",
    "import seaborn as sns\n",
    "import warnings\n",
    "warnings.filterwarnings(\"ignore\")"
   ]
  },
  {
   "cell_type": "code",
   "execution_count": 2,
   "id": "26dd307a",
   "metadata": {},
   "outputs": [],
   "source": [
    "df=pd.read_csv('covid_worldwide.csv')"
   ]
  },
  {
   "cell_type": "code",
   "execution_count": 3,
   "id": "ef2a7e20",
   "metadata": {},
   "outputs": [
    {
     "data": {
      "text/html": [
       "<div>\n",
       "<style scoped>\n",
       "    .dataframe tbody tr th:only-of-type {\n",
       "        vertical-align: middle;\n",
       "    }\n",
       "\n",
       "    .dataframe tbody tr th {\n",
       "        vertical-align: top;\n",
       "    }\n",
       "\n",
       "    .dataframe thead th {\n",
       "        text-align: right;\n",
       "    }\n",
       "</style>\n",
       "<table border=\"1\" class=\"dataframe\">\n",
       "  <thead>\n",
       "    <tr style=\"text-align: right;\">\n",
       "      <th></th>\n",
       "      <th>Serial Number</th>\n",
       "      <th>Country</th>\n",
       "      <th>Total Cases</th>\n",
       "      <th>Total Deaths</th>\n",
       "      <th>Total Recovered</th>\n",
       "      <th>Active Cases</th>\n",
       "      <th>Total Test</th>\n",
       "      <th>Population</th>\n",
       "    </tr>\n",
       "  </thead>\n",
       "  <tbody>\n",
       "    <tr>\n",
       "      <th>0</th>\n",
       "      <td>1</td>\n",
       "      <td>USA</td>\n",
       "      <td>104,196,861</td>\n",
       "      <td>1,132,935</td>\n",
       "      <td>101,322,779</td>\n",
       "      <td>1,741,147</td>\n",
       "      <td>1,159,832,679</td>\n",
       "      <td>334,805,269</td>\n",
       "    </tr>\n",
       "    <tr>\n",
       "      <th>1</th>\n",
       "      <td>2</td>\n",
       "      <td>India</td>\n",
       "      <td>44,682,784</td>\n",
       "      <td>530,740</td>\n",
       "      <td>44,150,289</td>\n",
       "      <td>1,755</td>\n",
       "      <td>915,265,788</td>\n",
       "      <td>1,406,631,776</td>\n",
       "    </tr>\n",
       "    <tr>\n",
       "      <th>2</th>\n",
       "      <td>3</td>\n",
       "      <td>France</td>\n",
       "      <td>39,524,311</td>\n",
       "      <td>164,233</td>\n",
       "      <td>39,264,546</td>\n",
       "      <td>95,532</td>\n",
       "      <td>271,490,188</td>\n",
       "      <td>65,584,518</td>\n",
       "    </tr>\n",
       "    <tr>\n",
       "      <th>3</th>\n",
       "      <td>4</td>\n",
       "      <td>Germany</td>\n",
       "      <td>37,779,833</td>\n",
       "      <td>165,711</td>\n",
       "      <td>37,398,100</td>\n",
       "      <td>216,022</td>\n",
       "      <td>122,332,384</td>\n",
       "      <td>83,883,596</td>\n",
       "    </tr>\n",
       "    <tr>\n",
       "      <th>4</th>\n",
       "      <td>5</td>\n",
       "      <td>Brazil</td>\n",
       "      <td>36,824,580</td>\n",
       "      <td>697,074</td>\n",
       "      <td>35,919,372</td>\n",
       "      <td>208,134</td>\n",
       "      <td>63,776,166</td>\n",
       "      <td>215,353,593</td>\n",
       "    </tr>\n",
       "    <tr>\n",
       "      <th>...</th>\n",
       "      <td>...</td>\n",
       "      <td>...</td>\n",
       "      <td>...</td>\n",
       "      <td>...</td>\n",
       "      <td>...</td>\n",
       "      <td>...</td>\n",
       "      <td>...</td>\n",
       "      <td>...</td>\n",
       "    </tr>\n",
       "    <tr>\n",
       "      <th>226</th>\n",
       "      <td>227</td>\n",
       "      <td>Diamond Princess</td>\n",
       "      <td>712</td>\n",
       "      <td>13</td>\n",
       "      <td>699</td>\n",
       "      <td>0</td>\n",
       "      <td>NaN</td>\n",
       "      <td>NaN</td>\n",
       "    </tr>\n",
       "    <tr>\n",
       "      <th>227</th>\n",
       "      <td>228</td>\n",
       "      <td>Vatican City</td>\n",
       "      <td>29</td>\n",
       "      <td>NaN</td>\n",
       "      <td>29</td>\n",
       "      <td>0</td>\n",
       "      <td>NaN</td>\n",
       "      <td>799</td>\n",
       "    </tr>\n",
       "    <tr>\n",
       "      <th>228</th>\n",
       "      <td>229</td>\n",
       "      <td>Western Sahara</td>\n",
       "      <td>10</td>\n",
       "      <td>1</td>\n",
       "      <td>9</td>\n",
       "      <td>0</td>\n",
       "      <td>NaN</td>\n",
       "      <td>626,161</td>\n",
       "    </tr>\n",
       "    <tr>\n",
       "      <th>229</th>\n",
       "      <td>230</td>\n",
       "      <td>MS Zaandam</td>\n",
       "      <td>9</td>\n",
       "      <td>2</td>\n",
       "      <td>7</td>\n",
       "      <td>0</td>\n",
       "      <td>NaN</td>\n",
       "      <td>NaN</td>\n",
       "    </tr>\n",
       "    <tr>\n",
       "      <th>230</th>\n",
       "      <td>231</td>\n",
       "      <td>Tokelau</td>\n",
       "      <td>5</td>\n",
       "      <td>NaN</td>\n",
       "      <td>NaN</td>\n",
       "      <td>5</td>\n",
       "      <td>NaN</td>\n",
       "      <td>1,378</td>\n",
       "    </tr>\n",
       "  </tbody>\n",
       "</table>\n",
       "<p>231 rows × 8 columns</p>\n",
       "</div>"
      ],
      "text/plain": [
       "     Serial Number           Country  Total Cases Total Deaths  \\\n",
       "0                1               USA  104,196,861    1,132,935   \n",
       "1                2             India   44,682,784      530,740   \n",
       "2                3            France   39,524,311      164,233   \n",
       "3                4           Germany   37,779,833      165,711   \n",
       "4                5            Brazil   36,824,580      697,074   \n",
       "..             ...               ...          ...          ...   \n",
       "226            227  Diamond Princess          712           13   \n",
       "227            228      Vatican City           29          NaN   \n",
       "228            229    Western Sahara           10            1   \n",
       "229            230        MS Zaandam            9            2   \n",
       "230            231           Tokelau            5          NaN   \n",
       "\n",
       "    Total Recovered Active Cases     Total Test     Population  \n",
       "0       101,322,779    1,741,147  1,159,832,679    334,805,269  \n",
       "1        44,150,289        1,755    915,265,788  1,406,631,776  \n",
       "2        39,264,546       95,532    271,490,188     65,584,518  \n",
       "3        37,398,100      216,022    122,332,384     83,883,596  \n",
       "4        35,919,372      208,134     63,776,166    215,353,593  \n",
       "..              ...          ...            ...            ...  \n",
       "226             699            0            NaN            NaN  \n",
       "227              29            0            NaN            799  \n",
       "228               9            0            NaN        626,161  \n",
       "229               7            0            NaN            NaN  \n",
       "230             NaN            5            NaN          1,378  \n",
       "\n",
       "[231 rows x 8 columns]"
      ]
     },
     "execution_count": 3,
     "metadata": {},
     "output_type": "execute_result"
    }
   ],
   "source": [
    "df"
   ]
  },
  {
   "cell_type": "markdown",
   "id": "e83362ec",
   "metadata": {},
   "source": [
    "# Welcome to Covid Cases and Deaths WorldWide\n",
    "Country: The name of the country where the COVID-19 cases have been reported.\n",
    "\n",
    "Total Cases: The total number of confirmed COVID-19 cases reported in the country.\n",
    "\n",
    "Total Deaths: The total number of deaths reported in the country due to COVID-19.\n",
    "\n",
    "Total Recovered: The total number of people who have recovered from COVID-19 in the country.\n",
    "\n",
    "Active Cases: The current number of active COVID-19 cases in the country (i.e., the number of people who currently have COVID-19 and have not yet recovered or died).\n",
    "\n",
    "Total Test: The total number of COVID-19 tests administered in the country.\n",
    "\n",
    "Population: The population of the country.\n",
    "\n",
    "Overall, this dataset appears to contain information on the spread and impact of COVID-19 in different countries around the world, including the number of cases, deaths, recoveries, and tests, as well as the population of each country."
   ]
  },
  {
   "cell_type": "markdown",
   "id": "e6f25a4d",
   "metadata": {},
   "source": [
    "# As starting of our project firstly we have see the only first 5 and last 5 rows to understand the data properly and take proper discussion"
   ]
  },
  {
   "cell_type": "code",
   "execution_count": 4,
   "id": "4418c0ef",
   "metadata": {},
   "outputs": [
    {
     "data": {
      "text/html": [
       "<div>\n",
       "<style scoped>\n",
       "    .dataframe tbody tr th:only-of-type {\n",
       "        vertical-align: middle;\n",
       "    }\n",
       "\n",
       "    .dataframe tbody tr th {\n",
       "        vertical-align: top;\n",
       "    }\n",
       "\n",
       "    .dataframe thead th {\n",
       "        text-align: right;\n",
       "    }\n",
       "</style>\n",
       "<table border=\"1\" class=\"dataframe\">\n",
       "  <thead>\n",
       "    <tr style=\"text-align: right;\">\n",
       "      <th></th>\n",
       "      <th>Serial Number</th>\n",
       "      <th>Country</th>\n",
       "      <th>Total Cases</th>\n",
       "      <th>Total Deaths</th>\n",
       "      <th>Total Recovered</th>\n",
       "      <th>Active Cases</th>\n",
       "      <th>Total Test</th>\n",
       "      <th>Population</th>\n",
       "    </tr>\n",
       "  </thead>\n",
       "  <tbody>\n",
       "    <tr>\n",
       "      <th>0</th>\n",
       "      <td>1</td>\n",
       "      <td>USA</td>\n",
       "      <td>104,196,861</td>\n",
       "      <td>1,132,935</td>\n",
       "      <td>101,322,779</td>\n",
       "      <td>1,741,147</td>\n",
       "      <td>1,159,832,679</td>\n",
       "      <td>334,805,269</td>\n",
       "    </tr>\n",
       "    <tr>\n",
       "      <th>1</th>\n",
       "      <td>2</td>\n",
       "      <td>India</td>\n",
       "      <td>44,682,784</td>\n",
       "      <td>530,740</td>\n",
       "      <td>44,150,289</td>\n",
       "      <td>1,755</td>\n",
       "      <td>915,265,788</td>\n",
       "      <td>1,406,631,776</td>\n",
       "    </tr>\n",
       "    <tr>\n",
       "      <th>2</th>\n",
       "      <td>3</td>\n",
       "      <td>France</td>\n",
       "      <td>39,524,311</td>\n",
       "      <td>164,233</td>\n",
       "      <td>39,264,546</td>\n",
       "      <td>95,532</td>\n",
       "      <td>271,490,188</td>\n",
       "      <td>65,584,518</td>\n",
       "    </tr>\n",
       "    <tr>\n",
       "      <th>3</th>\n",
       "      <td>4</td>\n",
       "      <td>Germany</td>\n",
       "      <td>37,779,833</td>\n",
       "      <td>165,711</td>\n",
       "      <td>37,398,100</td>\n",
       "      <td>216,022</td>\n",
       "      <td>122,332,384</td>\n",
       "      <td>83,883,596</td>\n",
       "    </tr>\n",
       "    <tr>\n",
       "      <th>4</th>\n",
       "      <td>5</td>\n",
       "      <td>Brazil</td>\n",
       "      <td>36,824,580</td>\n",
       "      <td>697,074</td>\n",
       "      <td>35,919,372</td>\n",
       "      <td>208,134</td>\n",
       "      <td>63,776,166</td>\n",
       "      <td>215,353,593</td>\n",
       "    </tr>\n",
       "  </tbody>\n",
       "</table>\n",
       "</div>"
      ],
      "text/plain": [
       "   Serial Number  Country  Total Cases Total Deaths Total Recovered  \\\n",
       "0              1      USA  104,196,861    1,132,935     101,322,779   \n",
       "1              2    India   44,682,784      530,740      44,150,289   \n",
       "2              3   France   39,524,311      164,233      39,264,546   \n",
       "3              4  Germany   37,779,833      165,711      37,398,100   \n",
       "4              5   Brazil   36,824,580      697,074      35,919,372   \n",
       "\n",
       "  Active Cases     Total Test     Population  \n",
       "0    1,741,147  1,159,832,679    334,805,269  \n",
       "1        1,755    915,265,788  1,406,631,776  \n",
       "2       95,532    271,490,188     65,584,518  \n",
       "3      216,022    122,332,384     83,883,596  \n",
       "4      208,134     63,776,166    215,353,593  "
      ]
     },
     "execution_count": 4,
     "metadata": {},
     "output_type": "execute_result"
    }
   ],
   "source": [
    "df.head()"
   ]
  },
  {
   "cell_type": "code",
   "execution_count": 5,
   "id": "2ccf7029",
   "metadata": {},
   "outputs": [
    {
     "data": {
      "text/html": [
       "<div>\n",
       "<style scoped>\n",
       "    .dataframe tbody tr th:only-of-type {\n",
       "        vertical-align: middle;\n",
       "    }\n",
       "\n",
       "    .dataframe tbody tr th {\n",
       "        vertical-align: top;\n",
       "    }\n",
       "\n",
       "    .dataframe thead th {\n",
       "        text-align: right;\n",
       "    }\n",
       "</style>\n",
       "<table border=\"1\" class=\"dataframe\">\n",
       "  <thead>\n",
       "    <tr style=\"text-align: right;\">\n",
       "      <th></th>\n",
       "      <th>Serial Number</th>\n",
       "      <th>Country</th>\n",
       "      <th>Total Cases</th>\n",
       "      <th>Total Deaths</th>\n",
       "      <th>Total Recovered</th>\n",
       "      <th>Active Cases</th>\n",
       "      <th>Total Test</th>\n",
       "      <th>Population</th>\n",
       "    </tr>\n",
       "  </thead>\n",
       "  <tbody>\n",
       "    <tr>\n",
       "      <th>226</th>\n",
       "      <td>227</td>\n",
       "      <td>Diamond Princess</td>\n",
       "      <td>712</td>\n",
       "      <td>13</td>\n",
       "      <td>699</td>\n",
       "      <td>0</td>\n",
       "      <td>NaN</td>\n",
       "      <td>NaN</td>\n",
       "    </tr>\n",
       "    <tr>\n",
       "      <th>227</th>\n",
       "      <td>228</td>\n",
       "      <td>Vatican City</td>\n",
       "      <td>29</td>\n",
       "      <td>NaN</td>\n",
       "      <td>29</td>\n",
       "      <td>0</td>\n",
       "      <td>NaN</td>\n",
       "      <td>799</td>\n",
       "    </tr>\n",
       "    <tr>\n",
       "      <th>228</th>\n",
       "      <td>229</td>\n",
       "      <td>Western Sahara</td>\n",
       "      <td>10</td>\n",
       "      <td>1</td>\n",
       "      <td>9</td>\n",
       "      <td>0</td>\n",
       "      <td>NaN</td>\n",
       "      <td>626,161</td>\n",
       "    </tr>\n",
       "    <tr>\n",
       "      <th>229</th>\n",
       "      <td>230</td>\n",
       "      <td>MS Zaandam</td>\n",
       "      <td>9</td>\n",
       "      <td>2</td>\n",
       "      <td>7</td>\n",
       "      <td>0</td>\n",
       "      <td>NaN</td>\n",
       "      <td>NaN</td>\n",
       "    </tr>\n",
       "    <tr>\n",
       "      <th>230</th>\n",
       "      <td>231</td>\n",
       "      <td>Tokelau</td>\n",
       "      <td>5</td>\n",
       "      <td>NaN</td>\n",
       "      <td>NaN</td>\n",
       "      <td>5</td>\n",
       "      <td>NaN</td>\n",
       "      <td>1,378</td>\n",
       "    </tr>\n",
       "  </tbody>\n",
       "</table>\n",
       "</div>"
      ],
      "text/plain": [
       "     Serial Number           Country Total Cases Total Deaths Total Recovered  \\\n",
       "226            227  Diamond Princess         712           13             699   \n",
       "227            228      Vatican City          29          NaN              29   \n",
       "228            229    Western Sahara          10            1               9   \n",
       "229            230        MS Zaandam           9            2               7   \n",
       "230            231           Tokelau           5          NaN             NaN   \n",
       "\n",
       "    Active Cases Total Test Population  \n",
       "226            0        NaN        NaN  \n",
       "227            0        NaN        799  \n",
       "228            0        NaN    626,161  \n",
       "229            0        NaN        NaN  \n",
       "230            5        NaN      1,378  "
      ]
     },
     "execution_count": 5,
     "metadata": {},
     "output_type": "execute_result"
    }
   ],
   "source": [
    "df.tail()"
   ]
  },
  {
   "cell_type": "markdown",
   "id": "fd6cb139",
   "metadata": {},
   "source": [
    "# Now we can start extracting information from this dataset"
   ]
  },
  {
   "cell_type": "code",
   "execution_count": 6,
   "id": "59ad82e9",
   "metadata": {},
   "outputs": [
    {
     "name": "stdout",
     "output_type": "stream",
     "text": [
      "<class 'pandas.core.frame.DataFrame'>\n",
      "RangeIndex: 231 entries, 0 to 230\n",
      "Data columns (total 8 columns):\n",
      " #   Column           Non-Null Count  Dtype \n",
      "---  ------           --------------  ----- \n",
      " 0   Serial Number    231 non-null    int64 \n",
      " 1   Country          231 non-null    object\n",
      " 2   Total Cases      231 non-null    object\n",
      " 3   Total Deaths     225 non-null    object\n",
      " 4   Total Recovered  210 non-null    object\n",
      " 5   Active Cases     212 non-null    object\n",
      " 6   Total Test       213 non-null    object\n",
      " 7   Population       228 non-null    object\n",
      "dtypes: int64(1), object(7)\n",
      "memory usage: 14.6+ KB\n"
     ]
    }
   ],
   "source": [
    "df.info()"
   ]
  },
  {
   "cell_type": "markdown",
   "id": "2fe886dd",
   "metadata": {},
   "source": [
    "The DataFrame has 231 rows (entries) and 8 columns, with a RangeIndex starting at 0 and ending at 230.\n",
    "he first column, \"Serial Number\", has a Dtype of int64 (an integer). The other seven columns (\"Country\", \"Total Cases\", \"Total Deaths\", \"Total Recovered\", \"Active Cases\", \"Total Test\", and \"Population\") all have a Dtype of object, indicating that they contain string data.\n",
    "\n",
    "There are some missing values in the DataFrame, as indicated by the differences between the number of non-null values and the total number of entries in each column. Specifically, there are missing values in the \"Total Deaths\", \"Total Recovered\", \"Active Cases\", and \"Total Test\" columns, as well as in the \"Population\" column.\n",
    "\n"
   ]
  },
  {
   "cell_type": "code",
   "execution_count": null,
   "id": "5737c834",
   "metadata": {},
   "outputs": [],
   "source": []
  },
  {
   "cell_type": "markdown",
   "id": "26c6ccf5",
   "metadata": {},
   "source": [
    "As columns as some null values and string all the columns are in object so can describe data later on."
   ]
  },
  {
   "cell_type": "code",
   "execution_count": 7,
   "id": "d534dbca",
   "metadata": {},
   "outputs": [
    {
     "data": {
      "text/plain": [
       "Serial Number      231\n",
       "Country            231\n",
       "Total Cases        231\n",
       "Total Deaths       213\n",
       "Total Recovered    210\n",
       "Active Cases       181\n",
       "Total Test         212\n",
       "Population         228\n",
       "dtype: int64"
      ]
     },
     "execution_count": 7,
     "metadata": {},
     "output_type": "execute_result"
    }
   ],
   "source": [
    "df.nunique()"
   ]
  },
  {
   "cell_type": "markdown",
   "id": "e53f4b9d",
   "metadata": {},
   "source": [
    "This output shows the number of non-null values for each column in the dataset. It looks like there are a total of 231 entries in the dataset, and all columns have at least 181 non-null values, with some columns having more missing values than others.\n",
    "\n",
    "We can see that the \"Serial Number\", \"Country\", and \"Total Cases\" columns have no missing values, while the \"Total Deaths\", \"Total Recovered\", \"Active Cases\", \"Total Test\", and \"Population\" columns have some missing values."
   ]
  },
  {
   "cell_type": "markdown",
   "id": "323e8ef4",
   "metadata": {},
   "source": [
    "# Data cleaning and proceesing\n",
    "It's important to note that missing values can affect the accuracy of any analysis or modeling we might do with this data, so we may need to handle these missing values appropriately "
   ]
  },
  {
   "cell_type": "code",
   "execution_count": 8,
   "id": "c11394e3",
   "metadata": {},
   "outputs": [
    {
     "data": {
      "text/plain": [
       "Serial Number      0.000000\n",
       "Country            0.000000\n",
       "Total Cases        0.000000\n",
       "Total Deaths       2.597403\n",
       "Total Recovered    9.090909\n",
       "Active Cases       8.225108\n",
       "Total Test         7.792208\n",
       "Population         1.298701\n",
       "dtype: float64"
      ]
     },
     "execution_count": 8,
     "metadata": {},
     "output_type": "execute_result"
    }
   ],
   "source": [
    "df.isnull().sum()/len(df)*100"
   ]
  },
  {
   "cell_type": "markdown",
   "id": "64aac843",
   "metadata": {},
   "source": [
    "As we see percentage missing values of this columns are in between 4 to 40% , so we can fill Na values using mean"
   ]
  },
  {
   "cell_type": "markdown",
   "id": "52ae6c20",
   "metadata": {},
   "source": [
    "But all the columns except serial number are in object dtypes so we have to change the datatype of the resepetive columns"
   ]
  },
  {
   "cell_type": "code",
   "execution_count": 9,
   "id": "11c3061a",
   "metadata": {},
   "outputs": [],
   "source": [
    "df['Total Cases']=df['Total Cases'].str.replace(',','')\n"
   ]
  },
  {
   "cell_type": "code",
   "execution_count": 10,
   "id": "b0091050",
   "metadata": {},
   "outputs": [],
   "source": [
    "df['Total Cases']=df['Total Cases'].astype('float')"
   ]
  },
  {
   "cell_type": "code",
   "execution_count": 11,
   "id": "6b9fae6a",
   "metadata": {},
   "outputs": [],
   "source": [
    "df['Total Deaths']=df['Total Deaths'].str.replace(',','')\n",
    "df['Total Deaths']=df['Total Deaths'].astype('float')\n"
   ]
  },
  {
   "cell_type": "code",
   "execution_count": 12,
   "id": "95d9e8fa",
   "metadata": {},
   "outputs": [],
   "source": [
    "df['Total Recovered']=df['Total Recovered'].str.replace(',','')\n",
    "df['Total Recovered']=df['Total Recovered'].astype('float')"
   ]
  },
  {
   "cell_type": "code",
   "execution_count": 13,
   "id": "7a627663",
   "metadata": {},
   "outputs": [],
   "source": [
    "df['Active Cases']=df['Active Cases'].str.replace(',','')\n",
    "df['Active Cases']=df['Active Cases'].astype('float')"
   ]
  },
  {
   "cell_type": "code",
   "execution_count": 14,
   "id": "fc65f0c0",
   "metadata": {},
   "outputs": [],
   "source": [
    "df['Total Test']=df['Total Test'].str.replace(',','')\n",
    "df['Total Test']=df['Total Test'].astype('float')"
   ]
  },
  {
   "cell_type": "code",
   "execution_count": 15,
   "id": "51bbb6e6",
   "metadata": {},
   "outputs": [],
   "source": [
    "df['Population']=df['Population'].str.replace(',','')\n",
    "df['Population']=df['Population'].astype('float')"
   ]
  },
  {
   "cell_type": "code",
   "execution_count": 16,
   "id": "c5021ec6",
   "metadata": {},
   "outputs": [
    {
     "data": {
      "text/plain": [
       "Serial Number        int64\n",
       "Country             object\n",
       "Total Cases        float64\n",
       "Total Deaths       float64\n",
       "Total Recovered    float64\n",
       "Active Cases       float64\n",
       "Total Test         float64\n",
       "Population         float64\n",
       "dtype: object"
      ]
     },
     "execution_count": 16,
     "metadata": {},
     "output_type": "execute_result"
    }
   ],
   "source": [
    "df.dtypes"
   ]
  },
  {
   "cell_type": "markdown",
   "id": "1914791c",
   "metadata": {},
   "source": [
    "Now each columns have perfect datatype we can fill null values "
   ]
  },
  {
   "cell_type": "code",
   "execution_count": 17,
   "id": "60d26675",
   "metadata": {},
   "outputs": [
    {
     "data": {
      "text/plain": [
       "Serial Number      0.000000\n",
       "Country            0.000000\n",
       "Total Cases        0.000000\n",
       "Total Deaths       2.597403\n",
       "Total Recovered    9.090909\n",
       "Active Cases       8.225108\n",
       "Total Test         7.792208\n",
       "Population         1.298701\n",
       "dtype: float64"
      ]
     },
     "execution_count": 17,
     "metadata": {},
     "output_type": "execute_result"
    }
   ],
   "source": [
    "df.isnull().sum()/len(df)*100"
   ]
  },
  {
   "cell_type": "code",
   "execution_count": 18,
   "id": "4ed9ffe2",
   "metadata": {},
   "outputs": [
    {
     "data": {
      "text/plain": [
       "30057.777777777777"
      ]
     },
     "execution_count": 18,
     "metadata": {},
     "output_type": "execute_result"
    }
   ],
   "source": [
    "meantd=df['Total Deaths'].mean()\n",
    "meantd"
   ]
  },
  {
   "cell_type": "code",
   "execution_count": 19,
   "id": "ab1ca29f",
   "metadata": {},
   "outputs": [],
   "source": [
    "df['Total Deaths']=df['Total Deaths'].fillna(meantd)"
   ]
  },
  {
   "cell_type": "code",
   "execution_count": 20,
   "id": "a27406c5",
   "metadata": {},
   "outputs": [
    {
     "data": {
      "text/plain": [
       "2993905.1285714284"
      ]
     },
     "execution_count": 20,
     "metadata": {},
     "output_type": "execute_result"
    }
   ],
   "source": [
    "meantr=df['Total Recovered'].mean()\n",
    "meantr"
   ]
  },
  {
   "cell_type": "code",
   "execution_count": 21,
   "id": "b0816b52",
   "metadata": {},
   "outputs": [],
   "source": [
    "df['Total Recovered']=df['Total Recovered'].fillna(meantr)"
   ]
  },
  {
   "cell_type": "code",
   "execution_count": 22,
   "id": "58abb4f3",
   "metadata": {},
   "outputs": [
    {
     "data": {
      "text/plain": [
       "90998.84905660378"
      ]
     },
     "execution_count": 22,
     "metadata": {},
     "output_type": "execute_result"
    }
   ],
   "source": [
    "meanac=df['Active Cases'].mean()\n",
    "meanac"
   ]
  },
  {
   "cell_type": "code",
   "execution_count": 23,
   "id": "28f61150",
   "metadata": {},
   "outputs": [],
   "source": [
    "df['Active Cases']=df['Active Cases'].fillna(meanac)"
   ]
  },
  {
   "cell_type": "code",
   "execution_count": 24,
   "id": "09b48244",
   "metadata": {},
   "outputs": [
    {
     "data": {
      "text/plain": [
       "32493160.42253521"
      ]
     },
     "execution_count": 24,
     "metadata": {},
     "output_type": "execute_result"
    }
   ],
   "source": [
    "meanTT=df['Total Test'].mean()\n",
    "meanTT"
   ]
  },
  {
   "cell_type": "code",
   "execution_count": 25,
   "id": "b7e06f51",
   "metadata": {},
   "outputs": [],
   "source": [
    "df['Total Test']=df['Total Test'].fillna(meanTT)"
   ]
  },
  {
   "cell_type": "code",
   "execution_count": 26,
   "id": "0cd6fd21",
   "metadata": {},
   "outputs": [
    {
     "data": {
      "text/plain": [
       "28493261.978070177"
      ]
     },
     "execution_count": 26,
     "metadata": {},
     "output_type": "execute_result"
    }
   ],
   "source": [
    "meanP=df['Population'].mean()\n",
    "meanP"
   ]
  },
  {
   "cell_type": "code",
   "execution_count": 27,
   "id": "3ad8eb4a",
   "metadata": {},
   "outputs": [],
   "source": [
    "df['Population']=df['Population'].fillna(meanP)"
   ]
  },
  {
   "cell_type": "code",
   "execution_count": 28,
   "id": "2288b4d0",
   "metadata": {},
   "outputs": [
    {
     "data": {
      "text/plain": [
       "Serial Number      0.0\n",
       "Country            0.0\n",
       "Total Cases        0.0\n",
       "Total Deaths       0.0\n",
       "Total Recovered    0.0\n",
       "Active Cases       0.0\n",
       "Total Test         0.0\n",
       "Population         0.0\n",
       "dtype: float64"
      ]
     },
     "execution_count": 28,
     "metadata": {},
     "output_type": "execute_result"
    }
   ],
   "source": [
    "df.isnull().sum()/len(df)*100"
   ]
  },
  {
   "cell_type": "markdown",
   "id": "6ea9e964",
   "metadata": {},
   "source": [
    "We sucessfully fill the null values as now there is null values present in this datasets"
   ]
  },
  {
   "cell_type": "markdown",
   "id": "72eba34b",
   "metadata": {},
   "source": [
    "#  Analyzing  dataset using charts and plots"
   ]
  },
  {
   "cell_type": "markdown",
   "id": "fb9aa3f1",
   "metadata": {},
   "source": [
    "# 1.How many countries are in the dataset and what are they?"
   ]
  },
  {
   "cell_type": "code",
   "execution_count": 32,
   "id": "2e2924ab",
   "metadata": {},
   "outputs": [
    {
     "data": {
      "text/plain": [
       "231"
      ]
     },
     "execution_count": 32,
     "metadata": {},
     "output_type": "execute_result"
    }
   ],
   "source": [
    "df['Country'].nunique()"
   ]
  },
  {
   "cell_type": "code",
   "execution_count": 36,
   "id": "9513f8cc",
   "metadata": {},
   "outputs": [
    {
     "data": {
      "text/plain": [
       "array(['USA', 'India', 'France', 'Germany', 'Brazil', 'Japan', 'S. Korea',\n",
       "       'Italy', 'UK', 'Russia', 'Turkey', 'Spain', 'Vietnam', 'Australia',\n",
       "       'Argentina', 'Taiwan', 'Netherlands', 'Iran', 'Mexico',\n",
       "       'Indonesia', 'Poland', 'Colombia', 'Austria', 'Greece', 'Portugal',\n",
       "       'Ukraine', 'Chile', 'Malaysia', 'Israel', 'DPRK', 'Thailand',\n",
       "       'Belgium', 'Czechia', 'Canada', 'Peru', 'Switzerland',\n",
       "       'Philippines', 'South Africa', 'Romania', 'Denmark', 'Hong Kong',\n",
       "       'Sweden', 'Serbia', 'Iraq', 'Singapore', 'Hungary', 'New Zealand',\n",
       "       'Bangladesh', 'Slovakia', 'Georgia', 'Jordan', 'Ireland',\n",
       "       'Pakistan', 'Norway', 'Finland', 'Kazakhstan', 'Slovenia',\n",
       "       'Lithuania', 'Bulgaria', 'Morocco', 'Croatia', 'Lebanon',\n",
       "       'Guatemala', 'Bolivia', 'Costa Rica', 'Tunisia', 'Cuba', 'Ecuador',\n",
       "       'UAE', 'Uruguay', 'Panama', 'Mongolia', 'Nepal', 'Belarus',\n",
       "       'Latvia', 'Saudi Arabia', 'Azerbaijan', 'Paraguay', 'Bahrain',\n",
       "       'Sri Lanka', 'Kuwait', 'Dominican Republic', 'Cyprus', 'Myanmar',\n",
       "       'Palestine', 'Estonia', 'Moldova', 'Venezuela', 'Egypt', 'Libya',\n",
       "       'China', 'Ethiopia', 'Qatar', 'Réunion', 'Honduras', 'Armenia',\n",
       "       'Bosnia and Herzegovina', 'Oman', 'North Macedonia', 'Kenya',\n",
       "       'Zambia', 'Albania', 'Botswana', 'Luxembourg', 'Montenegro',\n",
       "       'Brunei', 'Algeria', 'Nigeria', 'Zimbabwe', 'Uzbekistan',\n",
       "       'Mozambique', 'Martinique', 'Laos', 'Iceland', 'Afghanistan',\n",
       "       'Kyrgyzstan', 'El Salvador', 'Guadeloupe', 'Trinidad and Tobago',\n",
       "       'Maldives', 'Ghana', 'Namibia', 'Uganda', 'Jamaica', 'Cambodia',\n",
       "       'Rwanda', 'Cameroon', 'Malta', 'Barbados', 'Angola',\n",
       "       'Channel Islands', 'French Guiana', 'DRC', 'Senegal', 'Malawi',\n",
       "       'Ivory Coast', 'Suriname', 'New Caledonia', 'French Polynesia',\n",
       "       'Eswatini', 'Guyana', 'Belize', 'Fiji', 'Madagascar', 'Sudan',\n",
       "       'Mauritania', 'Cabo Verde', 'Bhutan', 'Syria', 'Burundi',\n",
       "       'Seychelles', 'Gabon', 'Andorra', 'Papua New Guinea', 'Curaçao',\n",
       "       'Aruba', 'Tanzania', 'Mayotte', 'Mauritius', 'Togo', 'Guinea',\n",
       "       'Isle of Man', 'Bahamas', 'Lesotho', 'Faeroe Islands', 'Haiti',\n",
       "       'Mali', 'Cayman Islands', 'Saint Lucia', 'Benin', 'Somalia',\n",
       "       'Congo', 'Solomon Islands', 'San Marino', 'Timor-Leste',\n",
       "       'Micronesia', 'Burkina Faso', 'Liechtenstein', 'Gibraltar',\n",
       "       'Grenada', 'Bermuda', 'Nicaragua', 'South Sudan', 'Tajikistan',\n",
       "       'Equatorial Guinea', 'Tonga', 'Samoa', 'Monaco', 'Dominica',\n",
       "       'Djibouti', 'Marshall Islands', 'CAR', 'Gambia', 'Saint Martin',\n",
       "       'Vanuatu', 'Greenland', 'Yemen', 'Caribbean Netherlands',\n",
       "       'Sint Maarten', 'Eritrea', 'Niger', 'St. Vincent Grenadines',\n",
       "       'Antigua and Barbuda', 'Comoros', 'Guinea-Bissau', 'Liberia',\n",
       "       'Sierra Leone', 'Chad', 'British Virgin Islands', 'Cook Islands',\n",
       "       'Saint Kitts and Nevis', 'Turks and Caicos',\n",
       "       'Sao Tome and Principe', 'Palau', 'St. Barth', 'Kiribati', 'Nauru',\n",
       "       'Anguilla', 'Macao', 'Saint Pierre Miquelon', 'Wallis and Futuna',\n",
       "       'Tuvalu', 'Saint Helena', 'Falkland Islands', 'Montserrat', 'Niue',\n",
       "       'Diamond Princess', 'Vatican City', 'Western Sahara', 'MS Zaandam',\n",
       "       'Tokelau'], dtype=object)"
      ]
     },
     "execution_count": 36,
     "metadata": {},
     "output_type": "execute_result"
    }
   ],
   "source": [
    "lists=df['Country'].unique()\n",
    "lists"
   ]
  },
  {
   "cell_type": "markdown",
   "id": "16612938",
   "metadata": {},
   "source": [
    "# 2.What is the total number of COVID-19 cases, deaths, and recoveries worldwide?"
   ]
  },
  {
   "cell_type": "code",
   "execution_count": null,
   "id": "a5f11e12",
   "metadata": {},
   "outputs": [],
   "source": []
  },
  {
   "cell_type": "code",
   "execution_count": 41,
   "id": "45b045cf",
   "metadata": {},
   "outputs": [],
   "source": [
    "Total_cases=df['Total Cases'].sum()\n",
    "Total_deaths=df['Total Deaths'].sum()\n",
    "Total_recovred=df['Total Recovered'].sum()\n"
   ]
  },
  {
   "cell_type": "code",
   "execution_count": 43,
   "id": "19c593f3",
   "metadata": {},
   "outputs": [
    {
     "data": {
      "text/plain": [
       "675319264.0"
      ]
     },
     "execution_count": 43,
     "metadata": {},
     "output_type": "execute_result"
    }
   ],
   "source": [
    "Total_cases\n"
   ]
  },
  {
   "cell_type": "code",
   "execution_count": 44,
   "id": "4ef39415",
   "metadata": {},
   "outputs": [
    {
     "data": {
      "text/plain": [
       "691592084.6999999"
      ]
     },
     "execution_count": 44,
     "metadata": {},
     "output_type": "execute_result"
    }
   ],
   "source": [
    "Total_recovred"
   ]
  },
  {
   "cell_type": "code",
   "execution_count": 45,
   "id": "20fea44b",
   "metadata": {},
   "outputs": [
    {
     "data": {
      "text/plain": [
       "6943346.666666667"
      ]
     },
     "execution_count": 45,
     "metadata": {},
     "output_type": "execute_result"
    }
   ],
   "source": [
    "Total_deaths"
   ]
  },
  {
   "cell_type": "markdown",
   "id": "b6619133",
   "metadata": {},
   "source": [
    "According to the data there are '675319264.0' Total cases are register ,'6943346.666666667' are Total deaths and '691592084.6999999' cases are recovered"
   ]
  },
  {
   "cell_type": "markdown",
   "id": "c5f90faa",
   "metadata": {},
   "source": [
    "# 3. Which country has the highest number of active COVID-19 cases?"
   ]
  },
  {
   "cell_type": "code",
   "execution_count": 56,
   "id": "fbbce5f6",
   "metadata": {},
   "outputs": [],
   "source": [
    "Active_cases=df.sort_values('Active Cases',ascending=False)"
   ]
  },
  {
   "cell_type": "code",
   "execution_count": 57,
   "id": "d73fb12e",
   "metadata": {},
   "outputs": [
    {
     "data": {
      "text/plain": [
       "'Japan'"
      ]
     },
     "execution_count": 57,
     "metadata": {},
     "output_type": "execute_result"
    }
   ],
   "source": [
    "Highest_number_of_active_cases=Active_cases.iloc[0]['Country']\n",
    "Highest_number_of_active_cases"
   ]
  },
  {
   "cell_type": "markdown",
   "id": "f2780f80",
   "metadata": {},
   "source": [
    "'Japan has highest number of active COVID-19 cases"
   ]
  },
  {
   "cell_type": "markdown",
   "id": "d9a328d8",
   "metadata": {},
   "source": [
    "# 4.How many COVID-19 tests have been conducted worldwide and what is the average testing rate per 1000 people?"
   ]
  },
  {
   "cell_type": "code",
   "execution_count": 60,
   "id": "41416295",
   "metadata": {},
   "outputs": [
    {
     "data": {
      "text/plain": [
       "7505920057.605634"
      ]
     },
     "execution_count": 60,
     "metadata": {},
     "output_type": "execute_result"
    }
   ],
   "source": [
    "worldwide_Total_test=df['Total Test'].sum()\n",
    "worldwide_Total_test"
   ]
  },
  {
   "cell_type": "code",
   "execution_count": 62,
   "id": "315105a2",
   "metadata": {},
   "outputs": [
    {
     "data": {
      "text/plain": [
       "1140.3805028551506"
      ]
     },
     "execution_count": 62,
     "metadata": {},
     "output_type": "execute_result"
    }
   ],
   "source": [
    "avg_test=df['Total Test'].sum()/df['Population'].sum()*1000\n",
    "avg_test"
   ]
  },
  {
   "cell_type": "markdown",
   "id": "11236b06",
   "metadata": {},
   "source": [
    "There are '7505920057' Test conducted Worldwide and '1140' are average testing rate per 1000 people"
   ]
  },
  {
   "cell_type": "code",
   "execution_count": null,
   "id": "20379f6b",
   "metadata": {},
   "outputs": [],
   "source": []
  },
  {
   "cell_type": "markdown",
   "id": "516124f1",
   "metadata": {},
   "source": [
    "# 5.What is the correlation between total cases, total deaths, and total recovered?"
   ]
  },
  {
   "cell_type": "code",
   "execution_count": 69,
   "id": "9d16b909",
   "metadata": {},
   "outputs": [],
   "source": [
    "corr=df[['Total Cases','Total Recovered','Total Deaths']].corr()\n"
   ]
  },
  {
   "cell_type": "code",
   "execution_count": 74,
   "id": "17d84500",
   "metadata": {},
   "outputs": [
    {
     "data": {
      "image/png": "[encoded data removed]",
      "text/plain": [
       "<Figure size 640x480 with 2 Axes>"
      ]
     },
     "metadata": {},
     "output_type": "display_data"
    }
   ],
   "source": [
    "sns.heatmap(corr,annot=True,cmap='YlGnBu')\n",
    "plt.show()"
   ]
  },
  {
   "cell_type": "markdown",
   "id": "2c743cb3",
   "metadata": {},
   "source": [
    "# 6. How many countries have more than 1 million total cases?"
   ]
  },
  {
   "cell_type": "code",
   "execution_count": 80,
   "id": "1c4a912a",
   "metadata": {},
   "outputs": [
    {
     "data": {
      "text/plain": [
       "73"
      ]
     },
     "execution_count": 80,
     "metadata": {},
     "output_type": "execute_result"
    }
   ],
   "source": [
    "more_than_1million=df[df['Total Cases']>1000000]\n",
    "len(more_than_1million)"
   ]
  },
  {
   "cell_type": "markdown",
   "id": "a174ee0a",
   "metadata": {},
   "source": [
    "There are 73 countries have more than 1 million total cases"
   ]
  },
  {
   "cell_type": "markdown",
   "id": "50fa295c",
   "metadata": {},
   "source": [
    "# 7. Which country has the highest percentage of recovery cases? "
   ]
  },
  {
   "cell_type": "code",
   "execution_count": 86,
   "id": "ad8396fa",
   "metadata": {},
   "outputs": [],
   "source": [
    "df['%Total Recovered']=df['Total Recovered']/df['Total Cases']*100"
   ]
  },
  {
   "cell_type": "code",
   "execution_count": 89,
   "id": "aa3e4088",
   "metadata": {},
   "outputs": [
    {
     "data": {
      "text/html": [
       "<div>\n",
       "<style scoped>\n",
       "    .dataframe tbody tr th:only-of-type {\n",
       "        vertical-align: middle;\n",
       "    }\n",
       "\n",
       "    .dataframe tbody tr th {\n",
       "        vertical-align: top;\n",
       "    }\n",
       "\n",
       "    .dataframe thead th {\n",
       "        text-align: right;\n",
       "    }\n",
       "</style>\n",
       "<table border=\"1\" class=\"dataframe\">\n",
       "  <thead>\n",
       "    <tr style=\"text-align: right;\">\n",
       "      <th></th>\n",
       "      <th>Serial Number</th>\n",
       "      <th>Country</th>\n",
       "      <th>Total Cases</th>\n",
       "      <th>Total Deaths</th>\n",
       "      <th>Total Recovered</th>\n",
       "      <th>Active Cases</th>\n",
       "      <th>Total Test</th>\n",
       "      <th>Population</th>\n",
       "      <th>%Total Recovered</th>\n",
       "    </tr>\n",
       "  </thead>\n",
       "  <tbody>\n",
       "    <tr>\n",
       "      <th>230</th>\n",
       "      <td>231</td>\n",
       "      <td>Tokelau</td>\n",
       "      <td>5.0</td>\n",
       "      <td>30057.777778</td>\n",
       "      <td>2.993905e+06</td>\n",
       "      <td>5.000000</td>\n",
       "      <td>3.249316e+07</td>\n",
       "      <td>1378.0</td>\n",
       "      <td>5.987810e+07</td>\n",
       "    </tr>\n",
       "    <tr>\n",
       "      <th>221</th>\n",
       "      <td>222</td>\n",
       "      <td>Tuvalu</td>\n",
       "      <td>2805.0</td>\n",
       "      <td>30057.777778</td>\n",
       "      <td>2.993905e+06</td>\n",
       "      <td>2805.000000</td>\n",
       "      <td>3.249316e+07</td>\n",
       "      <td>12066.0</td>\n",
       "      <td>1.067346e+05</td>\n",
       "    </tr>\n",
       "    <tr>\n",
       "      <th>214</th>\n",
       "      <td>215</td>\n",
       "      <td>St. Barth</td>\n",
       "      <td>5420.0</td>\n",
       "      <td>6.000000</td>\n",
       "      <td>2.993905e+06</td>\n",
       "      <td>90998.849057</td>\n",
       "      <td>7.864600e+04</td>\n",
       "      <td>9945.0</td>\n",
       "      <td>5.523810e+04</td>\n",
       "    </tr>\n",
       "    <tr>\n",
       "      <th>208</th>\n",
       "      <td>209</td>\n",
       "      <td>British Virgin Islands</td>\n",
       "      <td>7305.0</td>\n",
       "      <td>64.000000</td>\n",
       "      <td>2.993905e+06</td>\n",
       "      <td>90998.849057</td>\n",
       "      <td>1.073390e+05</td>\n",
       "      <td>30596.0</td>\n",
       "      <td>4.098433e+04</td>\n",
       "    </tr>\n",
       "    <tr>\n",
       "      <th>206</th>\n",
       "      <td>207</td>\n",
       "      <td>Sierra Leone</td>\n",
       "      <td>7760.0</td>\n",
       "      <td>126.000000</td>\n",
       "      <td>2.993905e+06</td>\n",
       "      <td>90998.849057</td>\n",
       "      <td>2.599580e+05</td>\n",
       "      <td>8306436.0</td>\n",
       "      <td>3.858125e+04</td>\n",
       "    </tr>\n",
       "    <tr>\n",
       "      <th>...</th>\n",
       "      <td>...</td>\n",
       "      <td>...</td>\n",
       "      <td>...</td>\n",
       "      <td>...</td>\n",
       "      <td>...</td>\n",
       "      <td>...</td>\n",
       "      <td>...</td>\n",
       "      <td>...</td>\n",
       "      <td>...</td>\n",
       "    </tr>\n",
       "    <tr>\n",
       "      <th>220</th>\n",
       "      <td>221</td>\n",
       "      <td>Wallis and Futuna</td>\n",
       "      <td>3427.0</td>\n",
       "      <td>7.000000</td>\n",
       "      <td>4.380000e+02</td>\n",
       "      <td>2982.000000</td>\n",
       "      <td>2.050800e+04</td>\n",
       "      <td>10982.0</td>\n",
       "      <td>1.278086e+01</td>\n",
       "    </tr>\n",
       "    <tr>\n",
       "      <th>131</th>\n",
       "      <td>132</td>\n",
       "      <td>French Guiana</td>\n",
       "      <td>98028.0</td>\n",
       "      <td>420.000000</td>\n",
       "      <td>1.125400e+04</td>\n",
       "      <td>86354.000000</td>\n",
       "      <td>6.512570e+05</td>\n",
       "      <td>314169.0</td>\n",
       "      <td>1.148039e+01</td>\n",
       "    </tr>\n",
       "    <tr>\n",
       "      <th>193</th>\n",
       "      <td>194</td>\n",
       "      <td>Saint Martin</td>\n",
       "      <td>12233.0</td>\n",
       "      <td>63.000000</td>\n",
       "      <td>1.399000e+03</td>\n",
       "      <td>10771.000000</td>\n",
       "      <td>1.123820e+05</td>\n",
       "      <td>39730.0</td>\n",
       "      <td>1.143628e+01</td>\n",
       "    </tr>\n",
       "    <tr>\n",
       "      <th>186</th>\n",
       "      <td>187</td>\n",
       "      <td>Samoa</td>\n",
       "      <td>16087.0</td>\n",
       "      <td>29.000000</td>\n",
       "      <td>1.605000e+03</td>\n",
       "      <td>14453.000000</td>\n",
       "      <td>1.873970e+05</td>\n",
       "      <td>202239.0</td>\n",
       "      <td>9.977000e+00</td>\n",
       "    </tr>\n",
       "    <tr>\n",
       "      <th>222</th>\n",
       "      <td>223</td>\n",
       "      <td>Saint Helena</td>\n",
       "      <td>2166.0</td>\n",
       "      <td>30057.777778</td>\n",
       "      <td>2.000000e+00</td>\n",
       "      <td>2164.000000</td>\n",
       "      <td>3.249316e+07</td>\n",
       "      <td>6115.0</td>\n",
       "      <td>9.233610e-02</td>\n",
       "    </tr>\n",
       "  </tbody>\n",
       "</table>\n",
       "<p>231 rows × 9 columns</p>\n",
       "</div>"
      ],
      "text/plain": [
       "     Serial Number                 Country  Total Cases  Total Deaths  \\\n",
       "230            231                 Tokelau          5.0  30057.777778   \n",
       "221            222                  Tuvalu       2805.0  30057.777778   \n",
       "214            215               St. Barth       5420.0      6.000000   \n",
       "208            209  British Virgin Islands       7305.0     64.000000   \n",
       "206            207            Sierra Leone       7760.0    126.000000   \n",
       "..             ...                     ...          ...           ...   \n",
       "220            221       Wallis and Futuna       3427.0      7.000000   \n",
       "131            132           French Guiana      98028.0    420.000000   \n",
       "193            194            Saint Martin      12233.0     63.000000   \n",
       "186            187                   Samoa      16087.0     29.000000   \n",
       "222            223            Saint Helena       2166.0  30057.777778   \n",
       "\n",
       "     Total Recovered  Active Cases    Total Test  Population  %Total Recovered  \n",
       "230     2.993905e+06      5.000000  3.249316e+07      1378.0      5.987810e+07  \n",
       "221     2.993905e+06   2805.000000  3.249316e+07     12066.0      1.067346e+05  \n",
       "214     2.993905e+06  90998.849057  7.864600e+04      9945.0      5.523810e+04  \n",
       "208     2.993905e+06  90998.849057  1.073390e+05     30596.0      4.098433e+04  \n",
       "206     2.993905e+06  90998.849057  2.599580e+05   8306436.0      3.858125e+04  \n",
       "..               ...           ...           ...         ...               ...  \n",
       "220     4.380000e+02   2982.000000  2.050800e+04     10982.0      1.278086e+01  \n",
       "131     1.125400e+04  86354.000000  6.512570e+05    314169.0      1.148039e+01  \n",
       "193     1.399000e+03  10771.000000  1.123820e+05     39730.0      1.143628e+01  \n",
       "186     1.605000e+03  14453.000000  1.873970e+05    202239.0      9.977000e+00  \n",
       "222     2.000000e+00   2164.000000  3.249316e+07      6115.0      9.233610e-02  \n",
       "\n",
       "[231 rows x 9 columns]"
      ]
     },
     "execution_count": 89,
     "metadata": {},
     "output_type": "execute_result"
    }
   ],
   "source": [
    "df.sort_values('%Total Recovered',ascending=False)"
   ]
  },
  {
   "cell_type": "markdown",
   "id": "a996a09b",
   "metadata": {},
   "source": [
    "'Tokelau' country has a highest percentage of recovery rate"
   ]
  },
  {
   "cell_type": "markdown",
   "id": "9eb515a0",
   "metadata": {},
   "source": [
    "# 8.How many countries have a higher number of deaths than recoveries?"
   ]
  },
  {
   "cell_type": "code",
   "execution_count": 96,
   "id": "d3b7af81",
   "metadata": {},
   "outputs": [],
   "source": [
    "df['death>recovey']=df['Total Deaths']>df['Total Recovered']"
   ]
  },
  {
   "cell_type": "code",
   "execution_count": 100,
   "id": "73f5a3c2",
   "metadata": {},
   "outputs": [
    {
     "data": {
      "text/html": [
       "<div>\n",
       "<style scoped>\n",
       "    .dataframe tbody tr th:only-of-type {\n",
       "        vertical-align: middle;\n",
       "    }\n",
       "\n",
       "    .dataframe tbody tr th {\n",
       "        vertical-align: top;\n",
       "    }\n",
       "\n",
       "    .dataframe thead th {\n",
       "        text-align: right;\n",
       "    }\n",
       "</style>\n",
       "<table border=\"1\" class=\"dataframe\">\n",
       "  <thead>\n",
       "    <tr style=\"text-align: right;\">\n",
       "      <th></th>\n",
       "      <th>Serial Number</th>\n",
       "      <th>Country</th>\n",
       "      <th>Total Cases</th>\n",
       "      <th>Total Deaths</th>\n",
       "      <th>Total Recovered</th>\n",
       "      <th>Active Cases</th>\n",
       "      <th>Total Test</th>\n",
       "      <th>Population</th>\n",
       "      <th>%Total Recovered</th>\n",
       "      <th>death&gt;recovey</th>\n",
       "    </tr>\n",
       "  </thead>\n",
       "  <tbody>\n",
       "    <tr>\n",
       "      <th>222</th>\n",
       "      <td>223</td>\n",
       "      <td>Saint Helena</td>\n",
       "      <td>2166.0</td>\n",
       "      <td>30057.777778</td>\n",
       "      <td>2.0</td>\n",
       "      <td>2164.0</td>\n",
       "      <td>3.249316e+07</td>\n",
       "      <td>6115.0</td>\n",
       "      <td>0.092336</td>\n",
       "      <td>True</td>\n",
       "    </tr>\n",
       "    <tr>\n",
       "      <th>223</th>\n",
       "      <td>224</td>\n",
       "      <td>Falkland Islands</td>\n",
       "      <td>1930.0</td>\n",
       "      <td>30057.777778</td>\n",
       "      <td>1930.0</td>\n",
       "      <td>0.0</td>\n",
       "      <td>8.632000e+03</td>\n",
       "      <td>3539.0</td>\n",
       "      <td>100.000000</td>\n",
       "      <td>True</td>\n",
       "    </tr>\n",
       "    <tr>\n",
       "      <th>225</th>\n",
       "      <td>226</td>\n",
       "      <td>Niue</td>\n",
       "      <td>747.0</td>\n",
       "      <td>30057.777778</td>\n",
       "      <td>746.0</td>\n",
       "      <td>1.0</td>\n",
       "      <td>3.249316e+07</td>\n",
       "      <td>1622.0</td>\n",
       "      <td>99.866131</td>\n",
       "      <td>True</td>\n",
       "    </tr>\n",
       "    <tr>\n",
       "      <th>227</th>\n",
       "      <td>228</td>\n",
       "      <td>Vatican City</td>\n",
       "      <td>29.0</td>\n",
       "      <td>30057.777778</td>\n",
       "      <td>29.0</td>\n",
       "      <td>0.0</td>\n",
       "      <td>3.249316e+07</td>\n",
       "      <td>799.0</td>\n",
       "      <td>100.000000</td>\n",
       "      <td>True</td>\n",
       "    </tr>\n",
       "  </tbody>\n",
       "</table>\n",
       "</div>"
      ],
      "text/plain": [
       "     Serial Number           Country  Total Cases  Total Deaths  \\\n",
       "222            223      Saint Helena       2166.0  30057.777778   \n",
       "223            224  Falkland Islands       1930.0  30057.777778   \n",
       "225            226              Niue        747.0  30057.777778   \n",
       "227            228      Vatican City         29.0  30057.777778   \n",
       "\n",
       "     Total Recovered  Active Cases    Total Test  Population  \\\n",
       "222              2.0        2164.0  3.249316e+07      6115.0   \n",
       "223           1930.0           0.0  8.632000e+03      3539.0   \n",
       "225            746.0           1.0  3.249316e+07      1622.0   \n",
       "227             29.0           0.0  3.249316e+07       799.0   \n",
       "\n",
       "     %Total Recovered  death>recovey  \n",
       "222          0.092336           True  \n",
       "223        100.000000           True  \n",
       "225         99.866131           True  \n",
       "227        100.000000           True  "
      ]
     },
     "execution_count": 100,
     "metadata": {},
     "output_type": "execute_result"
    }
   ],
   "source": [
    "df[df['death>recovey']]"
   ]
  },
  {
   "cell_type": "code",
   "execution_count": 101,
   "id": "37ac9b2f",
   "metadata": {},
   "outputs": [
    {
     "data": {
      "text/plain": [
       "4"
      ]
     },
     "execution_count": 101,
     "metadata": {},
     "output_type": "execute_result"
    }
   ],
   "source": [
    "len(df[df['death>recovey']])"
   ]
  },
  {
   "cell_type": "markdown",
   "id": "8c9d8239",
   "metadata": {},
   "source": [
    "There are 4 countries have a higher number of deaths than recoveries \n",
    "\n",
    "Countries:\n",
    "\n",
    "Saint Helena\t\n",
    "\n",
    "Falkland Island\n",
    "\n",
    "Niue\n",
    "\n",
    "Vatican City\n"
   ]
  },
  {
   "cell_type": "markdown",
   "id": "96adab7f",
   "metadata": {},
   "source": [
    "# 9.Which country has the highest ratio of total deaths to total cases?"
   ]
  },
  {
   "cell_type": "code",
   "execution_count": 102,
   "id": "cd265059",
   "metadata": {},
   "outputs": [],
   "source": [
    "df['Death to Case Ratio']=df['Total Deaths'] / df['Total Cases']"
   ]
  },
  {
   "cell_type": "code",
   "execution_count": 112,
   "id": "bf3672e7",
   "metadata": {},
   "outputs": [
    {
     "data": {
      "text/html": [
       "<div>\n",
       "<style scoped>\n",
       "    .dataframe tbody tr th:only-of-type {\n",
       "        vertical-align: middle;\n",
       "    }\n",
       "\n",
       "    .dataframe tbody tr th {\n",
       "        vertical-align: top;\n",
       "    }\n",
       "\n",
       "    .dataframe thead th {\n",
       "        text-align: right;\n",
       "    }\n",
       "</style>\n",
       "<table border=\"1\" class=\"dataframe\">\n",
       "  <thead>\n",
       "    <tr style=\"text-align: right;\">\n",
       "      <th></th>\n",
       "      <th>Serial Number</th>\n",
       "      <th>Country</th>\n",
       "      <th>Total Cases</th>\n",
       "      <th>Total Deaths</th>\n",
       "      <th>Total Recovered</th>\n",
       "      <th>Active Cases</th>\n",
       "      <th>Total Test</th>\n",
       "      <th>Population</th>\n",
       "      <th>%Total Recovered</th>\n",
       "      <th>death&gt;recovey</th>\n",
       "      <th>Death to Case Ratio</th>\n",
       "    </tr>\n",
       "  </thead>\n",
       "  <tbody>\n",
       "    <tr>\n",
       "      <th>230</th>\n",
       "      <td>231</td>\n",
       "      <td>Tokelau</td>\n",
       "      <td>5.0</td>\n",
       "      <td>30057.777778</td>\n",
       "      <td>2.993905e+06</td>\n",
       "      <td>5.0</td>\n",
       "      <td>3.249316e+07</td>\n",
       "      <td>1378.0</td>\n",
       "      <td>5.987810e+07</td>\n",
       "      <td>False</td>\n",
       "      <td>6011.555556</td>\n",
       "    </tr>\n",
       "    <tr>\n",
       "      <th>227</th>\n",
       "      <td>228</td>\n",
       "      <td>Vatican City</td>\n",
       "      <td>29.0</td>\n",
       "      <td>30057.777778</td>\n",
       "      <td>2.900000e+01</td>\n",
       "      <td>0.0</td>\n",
       "      <td>3.249316e+07</td>\n",
       "      <td>799.0</td>\n",
       "      <td>1.000000e+02</td>\n",
       "      <td>True</td>\n",
       "      <td>1036.475096</td>\n",
       "    </tr>\n",
       "    <tr>\n",
       "      <th>225</th>\n",
       "      <td>226</td>\n",
       "      <td>Niue</td>\n",
       "      <td>747.0</td>\n",
       "      <td>30057.777778</td>\n",
       "      <td>7.460000e+02</td>\n",
       "      <td>1.0</td>\n",
       "      <td>3.249316e+07</td>\n",
       "      <td>1622.0</td>\n",
       "      <td>9.986613e+01</td>\n",
       "      <td>True</td>\n",
       "      <td>40.237989</td>\n",
       "    </tr>\n",
       "    <tr>\n",
       "      <th>223</th>\n",
       "      <td>224</td>\n",
       "      <td>Falkland Islands</td>\n",
       "      <td>1930.0</td>\n",
       "      <td>30057.777778</td>\n",
       "      <td>1.930000e+03</td>\n",
       "      <td>0.0</td>\n",
       "      <td>8.632000e+03</td>\n",
       "      <td>3539.0</td>\n",
       "      <td>1.000000e+02</td>\n",
       "      <td>True</td>\n",
       "      <td>15.573978</td>\n",
       "    </tr>\n",
       "    <tr>\n",
       "      <th>222</th>\n",
       "      <td>223</td>\n",
       "      <td>Saint Helena</td>\n",
       "      <td>2166.0</td>\n",
       "      <td>30057.777778</td>\n",
       "      <td>2.000000e+00</td>\n",
       "      <td>2164.0</td>\n",
       "      <td>3.249316e+07</td>\n",
       "      <td>6115.0</td>\n",
       "      <td>9.233610e-02</td>\n",
       "      <td>True</td>\n",
       "      <td>13.877090</td>\n",
       "    </tr>\n",
       "    <tr>\n",
       "      <th>...</th>\n",
       "      <td>...</td>\n",
       "      <td>...</td>\n",
       "      <td>...</td>\n",
       "      <td>...</td>\n",
       "      <td>...</td>\n",
       "      <td>...</td>\n",
       "      <td>...</td>\n",
       "      <td>...</td>\n",
       "      <td>...</td>\n",
       "      <td>...</td>\n",
       "      <td>...</td>\n",
       "    </tr>\n",
       "    <tr>\n",
       "      <th>219</th>\n",
       "      <td>220</td>\n",
       "      <td>Saint Pierre Miquelon</td>\n",
       "      <td>3452.0</td>\n",
       "      <td>2.000000</td>\n",
       "      <td>2.449000e+03</td>\n",
       "      <td>1001.0</td>\n",
       "      <td>2.540000e+04</td>\n",
       "      <td>5759.0</td>\n",
       "      <td>7.094438e+01</td>\n",
       "      <td>False</td>\n",
       "      <td>0.000579</td>\n",
       "    </tr>\n",
       "    <tr>\n",
       "      <th>147</th>\n",
       "      <td>148</td>\n",
       "      <td>Bhutan</td>\n",
       "      <td>62605.0</td>\n",
       "      <td>21.000000</td>\n",
       "      <td>6.156400e+04</td>\n",
       "      <td>1020.0</td>\n",
       "      <td>2.303734e+06</td>\n",
       "      <td>787941.0</td>\n",
       "      <td>9.833719e+01</td>\n",
       "      <td>False</td>\n",
       "      <td>0.000335</td>\n",
       "    </tr>\n",
       "    <tr>\n",
       "      <th>209</th>\n",
       "      <td>210</td>\n",
       "      <td>Cook Islands</td>\n",
       "      <td>7011.0</td>\n",
       "      <td>2.000000</td>\n",
       "      <td>6.993000e+03</td>\n",
       "      <td>16.0</td>\n",
       "      <td>1.969000e+04</td>\n",
       "      <td>17571.0</td>\n",
       "      <td>9.974326e+01</td>\n",
       "      <td>False</td>\n",
       "      <td>0.000285</td>\n",
       "    </tr>\n",
       "    <tr>\n",
       "      <th>216</th>\n",
       "      <td>217</td>\n",
       "      <td>Nauru</td>\n",
       "      <td>4621.0</td>\n",
       "      <td>1.000000</td>\n",
       "      <td>4.609000e+03</td>\n",
       "      <td>11.0</td>\n",
       "      <td>2.050900e+04</td>\n",
       "      <td>10903.0</td>\n",
       "      <td>9.974032e+01</td>\n",
       "      <td>False</td>\n",
       "      <td>0.000216</td>\n",
       "    </tr>\n",
       "    <tr>\n",
       "      <th>29</th>\n",
       "      <td>30</td>\n",
       "      <td>DPRK</td>\n",
       "      <td>4772813.0</td>\n",
       "      <td>74.000000</td>\n",
       "      <td>4.772739e+06</td>\n",
       "      <td>0.0</td>\n",
       "      <td>3.249316e+07</td>\n",
       "      <td>25990679.0</td>\n",
       "      <td>9.999845e+01</td>\n",
       "      <td>False</td>\n",
       "      <td>0.000016</td>\n",
       "    </tr>\n",
       "  </tbody>\n",
       "</table>\n",
       "<p>231 rows × 11 columns</p>\n",
       "</div>"
      ],
      "text/plain": [
       "     Serial Number                Country  Total Cases  Total Deaths  \\\n",
       "230            231                Tokelau          5.0  30057.777778   \n",
       "227            228           Vatican City         29.0  30057.777778   \n",
       "225            226                   Niue        747.0  30057.777778   \n",
       "223            224       Falkland Islands       1930.0  30057.777778   \n",
       "222            223           Saint Helena       2166.0  30057.777778   \n",
       "..             ...                    ...          ...           ...   \n",
       "219            220  Saint Pierre Miquelon       3452.0      2.000000   \n",
       "147            148                 Bhutan      62605.0     21.000000   \n",
       "209            210           Cook Islands       7011.0      2.000000   \n",
       "216            217                  Nauru       4621.0      1.000000   \n",
       "29              30                   DPRK    4772813.0     74.000000   \n",
       "\n",
       "     Total Recovered  Active Cases    Total Test  Population  \\\n",
       "230     2.993905e+06           5.0  3.249316e+07      1378.0   \n",
       "227     2.900000e+01           0.0  3.249316e+07       799.0   \n",
       "225     7.460000e+02           1.0  3.249316e+07      1622.0   \n",
       "223     1.930000e+03           0.0  8.632000e+03      3539.0   \n",
       "222     2.000000e+00        2164.0  3.249316e+07      6115.0   \n",
       "..               ...           ...           ...         ...   \n",
       "219     2.449000e+03        1001.0  2.540000e+04      5759.0   \n",
       "147     6.156400e+04        1020.0  2.303734e+06    787941.0   \n",
       "209     6.993000e+03          16.0  1.969000e+04     17571.0   \n",
       "216     4.609000e+03          11.0  2.050900e+04     10903.0   \n",
       "29      4.772739e+06           0.0  3.249316e+07  25990679.0   \n",
       "\n",
       "     %Total Recovered  death>recovey  Death to Case Ratio  \n",
       "230      5.987810e+07          False          6011.555556  \n",
       "227      1.000000e+02           True          1036.475096  \n",
       "225      9.986613e+01           True            40.237989  \n",
       "223      1.000000e+02           True            15.573978  \n",
       "222      9.233610e-02           True            13.877090  \n",
       "..                ...            ...                  ...  \n",
       "219      7.094438e+01          False             0.000579  \n",
       "147      9.833719e+01          False             0.000335  \n",
       "209      9.974326e+01          False             0.000285  \n",
       "216      9.974032e+01          False             0.000216  \n",
       "29       9.999845e+01          False             0.000016  \n",
       "\n",
       "[231 rows x 11 columns]"
      ]
     },
     "execution_count": 112,
     "metadata": {},
     "output_type": "execute_result"
    }
   ],
   "source": [
    "df.sort_values('Death to Case Ratio',ascending=False)"
   ]
  },
  {
   "cell_type": "markdown",
   "id": "12e50059",
   "metadata": {},
   "source": [
    "'Tokelau' as has the highest ratio of total deaths to total cases"
   ]
  },
  {
   "cell_type": "markdown",
   "id": "6d78f5f7",
   "metadata": {},
   "source": [
    "# 10. Which countries have a higher number of active cases than recovered cases?"
   ]
  },
  {
   "cell_type": "code",
   "execution_count": 114,
   "id": "e44c0600",
   "metadata": {},
   "outputs": [],
   "source": [
    "df['Active > Recovered'] = df['Active Cases'] > df['Total Recovered']\n"
   ]
  },
  {
   "cell_type": "code",
   "execution_count": 117,
   "id": "98c57f7c",
   "metadata": {},
   "outputs": [
    {
     "data": {
      "text/plain": [
       "131        French Guiana\n",
       "167       Cayman Islands\n",
       "181            Nicaragua\n",
       "186                Samoa\n",
       "193         Saint Martin\n",
       "195            Greenland\n",
       "220    Wallis and Futuna\n",
       "222         Saint Helena\n",
       "Name: Country, dtype: object"
      ]
     },
     "execution_count": 117,
     "metadata": {},
     "output_type": "execute_result"
    }
   ],
   "source": [
    "df[df['Active > Recovered']]['Country']"
   ]
  },
  {
   "cell_type": "markdown",
   "id": "d164e5f9",
   "metadata": {},
   "source": [
    "Countries:\n",
    "\n",
    "French Guiana\n",
    "\n",
    "Cayman Islands\n",
    "\n",
    "Nicaragua\n",
    "\n",
    "Samoa\n",
    "\n",
    "Saint Martin\n",
    "\n",
    "Greenland\n",
    "\n",
    "Wallis and Futuna\n",
    "\n",
    "Saint Helena\n"
   ]
  },
  {
   "cell_type": "code",
   "execution_count": null,
   "id": "884b4ac5",
   "metadata": {},
   "outputs": [],
   "source": []
  }
 ],
 "metadata": {
  "kernelspec": {
   "display_name": "Python 3 (ipykernel)",
   "language": "python",
   "name": "python3"
  },
  "language_info": {
   "codemirror_mode": {
    "name": "ipython",
    "version": 3
   },
   "file_extension": ".py",
   "mimetype": "text/x-python",
   "name": "python",
   "nbconvert_exporter": "python",
   "pygments_lexer": "ipython3",
   "version": "3.9.13"
  }
 },
 "nbformat": 4,
 "nbformat_minor": 5
}
