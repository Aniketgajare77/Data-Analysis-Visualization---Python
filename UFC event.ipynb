{
 "cells": [
  {
   "cell_type": "markdown",
   "id": "38ab4c44",
   "metadata": {},
   "source": [
    "# Exploratory Data Analysis of UFC Event data"
   ]
  },
  {
   "cell_type": "markdown",
   "id": "1e38c32f",
   "metadata": {},
   "source": [
    "I found the dataset of car details from car dekho from Kaggle\n",
    "\n",
    "Link of the Dataset: https://www.kaggle.com/datasets/fatismajli/ufc-data"
   ]
  },
  {
   "cell_type": "code",
   "execution_count": 1,
   "id": "a8cefba5",
   "metadata": {},
   "outputs": [],
   "source": [
    "import numpy as np\n",
    "import pandas as pd\n",
    "import matplotlib\n",
    "import matplotlib.pyplot as plt\n",
    "import seaborn as sns\n",
    "import warnings\n",
    "warnings.filterwarnings('ignore')"
   ]
  },
  {
   "cell_type": "code",
   "execution_count": 2,
   "id": "42894ab5",
   "metadata": {},
   "outputs": [
    {
     "data": {
      "text/html": [
       "<div>\n",
       "<style scoped>\n",
       "    .dataframe tbody tr th:only-of-type {\n",
       "        vertical-align: middle;\n",
       "    }\n",
       "\n",
       "    .dataframe tbody tr th {\n",
       "        vertical-align: top;\n",
       "    }\n",
       "\n",
       "    .dataframe thead th {\n",
       "        text-align: right;\n",
       "    }\n",
       "</style>\n",
       "<table border=\"1\" class=\"dataframe\">\n",
       "  <thead>\n",
       "    <tr style=\"text-align: right;\">\n",
       "      <th></th>\n",
       "      <th>Event Name</th>\n",
       "      <th>Event Date</th>\n",
       "      <th>Result</th>\n",
       "      <th>Fighter1</th>\n",
       "      <th>Fighter2</th>\n",
       "      <th>KD</th>\n",
       "      <th>Strikes</th>\n",
       "      <th>TD</th>\n",
       "      <th>Sub</th>\n",
       "      <th>Weight Class</th>\n",
       "      <th>Method</th>\n",
       "      <th>Round</th>\n",
       "      <th>Time</th>\n",
       "    </tr>\n",
       "  </thead>\n",
       "  <tbody>\n",
       "    <tr>\n",
       "      <th>0</th>\n",
       "      <td>UFC Fight Night: Vera vs. Sandhagen</td>\n",
       "      <td>March 25, 2023</td>\n",
       "      <td>Cory Sandhagen</td>\n",
       "      <td>Cory Sandhagen</td>\n",
       "      <td>Marlon Vera</td>\n",
       "      <td>0-0</td>\n",
       "      <td>128-58</td>\n",
       "      <td>3-0</td>\n",
       "      <td>0-1</td>\n",
       "      <td>Bantamweight</td>\n",
       "      <td>S-DEC</td>\n",
       "      <td>5</td>\n",
       "      <td>5:00</td>\n",
       "    </tr>\n",
       "    <tr>\n",
       "      <th>1</th>\n",
       "      <td>UFC Fight Night: Vera vs. Sandhagen</td>\n",
       "      <td>March 25, 2023</td>\n",
       "      <td>Holly Holm</td>\n",
       "      <td>Holly Holm</td>\n",
       "      <td>Yana Santos</td>\n",
       "      <td>0-0</td>\n",
       "      <td>32-21</td>\n",
       "      <td>4-0</td>\n",
       "      <td>0-0</td>\n",
       "      <td>Women's Bantamweight</td>\n",
       "      <td>U-DEC</td>\n",
       "      <td>3</td>\n",
       "      <td>5:00</td>\n",
       "    </tr>\n",
       "    <tr>\n",
       "      <th>2</th>\n",
       "      <td>UFC Fight Night: Vera vs. Sandhagen</td>\n",
       "      <td>March 25, 2023</td>\n",
       "      <td>Nate Landwehr</td>\n",
       "      <td>Nate Landwehr</td>\n",
       "      <td>Austin Lingo</td>\n",
       "      <td>0-0</td>\n",
       "      <td>64-48</td>\n",
       "      <td>1-0</td>\n",
       "      <td>1-0</td>\n",
       "      <td>Featherweight</td>\n",
       "      <td>SUB-Rear-Naked-Choke</td>\n",
       "      <td>2</td>\n",
       "      <td>4:11</td>\n",
       "    </tr>\n",
       "    <tr>\n",
       "      <th>3</th>\n",
       "      <td>UFC Fight Night: Vera vs. Sandhagen</td>\n",
       "      <td>March 25, 2023</td>\n",
       "      <td>Maycee Barber</td>\n",
       "      <td>Maycee Barber</td>\n",
       "      <td>Andrea Lee</td>\n",
       "      <td>0-0</td>\n",
       "      <td>48-39</td>\n",
       "      <td>2-5</td>\n",
       "      <td>0-0</td>\n",
       "      <td>Women's Flyweight</td>\n",
       "      <td>S-DEC</td>\n",
       "      <td>3</td>\n",
       "      <td>5:00</td>\n",
       "    </tr>\n",
       "    <tr>\n",
       "      <th>4</th>\n",
       "      <td>UFC Fight Night: Vera vs. Sandhagen</td>\n",
       "      <td>March 25, 2023</td>\n",
       "      <td>Albert Duraev</td>\n",
       "      <td>Albert Duraev</td>\n",
       "      <td>Chidi Njokuani</td>\n",
       "      <td>0-0</td>\n",
       "      <td>45-40</td>\n",
       "      <td>2-0</td>\n",
       "      <td>0-0</td>\n",
       "      <td>Middleweight</td>\n",
       "      <td>S-DEC</td>\n",
       "      <td>3</td>\n",
       "      <td>5:00</td>\n",
       "    </tr>\n",
       "    <tr>\n",
       "      <th>...</th>\n",
       "      <td>...</td>\n",
       "      <td>...</td>\n",
       "      <td>...</td>\n",
       "      <td>...</td>\n",
       "      <td>...</td>\n",
       "      <td>...</td>\n",
       "      <td>...</td>\n",
       "      <td>...</td>\n",
       "      <td>...</td>\n",
       "      <td>...</td>\n",
       "      <td>...</td>\n",
       "      <td>...</td>\n",
       "      <td>...</td>\n",
       "    </tr>\n",
       "    <tr>\n",
       "      <th>7055</th>\n",
       "      <td>UFC 2: No Way Out</td>\n",
       "      <td>March 11, 1994</td>\n",
       "      <td>Orlando Wiet</td>\n",
       "      <td>Orlando Wiet</td>\n",
       "      <td>Robert Lucarelli</td>\n",
       "      <td>0-0</td>\n",
       "      <td>8-2</td>\n",
       "      <td>0-1</td>\n",
       "      <td>0-1</td>\n",
       "      <td>Open Weight</td>\n",
       "      <td>KO/TKO</td>\n",
       "      <td>1</td>\n",
       "      <td>2:50</td>\n",
       "    </tr>\n",
       "    <tr>\n",
       "      <th>7056</th>\n",
       "      <td>UFC 2: No Way Out</td>\n",
       "      <td>March 11, 1994</td>\n",
       "      <td>Frank Hamaker</td>\n",
       "      <td>Frank Hamaker</td>\n",
       "      <td>Thaddeus Luster</td>\n",
       "      <td>0-0</td>\n",
       "      <td>2-0</td>\n",
       "      <td>1-0</td>\n",
       "      <td>3-0</td>\n",
       "      <td>Open Weight</td>\n",
       "      <td>SUB-Keylock</td>\n",
       "      <td>1</td>\n",
       "      <td>4:52</td>\n",
       "    </tr>\n",
       "    <tr>\n",
       "      <th>7057</th>\n",
       "      <td>UFC 2: No Way Out</td>\n",
       "      <td>March 11, 1994</td>\n",
       "      <td>Johnny Rhodes</td>\n",
       "      <td>Johnny Rhodes</td>\n",
       "      <td>David Levicki</td>\n",
       "      <td>0-0</td>\n",
       "      <td>11-4</td>\n",
       "      <td>1-0</td>\n",
       "      <td>0-0</td>\n",
       "      <td>Open Weight</td>\n",
       "      <td>KO/TKO-Punches</td>\n",
       "      <td>1</td>\n",
       "      <td>12:13</td>\n",
       "    </tr>\n",
       "    <tr>\n",
       "      <th>7058</th>\n",
       "      <td>UFC 2: No Way Out</td>\n",
       "      <td>March 11, 1994</td>\n",
       "      <td>Patrick Smith</td>\n",
       "      <td>Patrick Smith</td>\n",
       "      <td>Ray Wizard</td>\n",
       "      <td>0-0</td>\n",
       "      <td>1-1</td>\n",
       "      <td>0-0</td>\n",
       "      <td>1-0</td>\n",
       "      <td>Open Weight</td>\n",
       "      <td>SUB-Guillotine-Choke</td>\n",
       "      <td>1</td>\n",
       "      <td>0:58</td>\n",
       "    </tr>\n",
       "    <tr>\n",
       "      <th>7059</th>\n",
       "      <td>UFC 2: No Way Out</td>\n",
       "      <td>March 11, 1994</td>\n",
       "      <td>Scott Morris</td>\n",
       "      <td>Scott Morris</td>\n",
       "      <td>Sean Daugherty</td>\n",
       "      <td>0-0</td>\n",
       "      <td>1-0</td>\n",
       "      <td>1-0</td>\n",
       "      <td>1-0</td>\n",
       "      <td>Open Weight</td>\n",
       "      <td>SUB-Guillotine-Choke</td>\n",
       "      <td>1</td>\n",
       "      <td>0:20</td>\n",
       "    </tr>\n",
       "  </tbody>\n",
       "</table>\n",
       "<p>7060 rows × 13 columns</p>\n",
       "</div>"
      ],
      "text/plain": [
       "                               Event Name      Event Date          Result  \\\n",
       "0     UFC Fight Night: Vera vs. Sandhagen  March 25, 2023  Cory Sandhagen   \n",
       "1     UFC Fight Night: Vera vs. Sandhagen  March 25, 2023      Holly Holm   \n",
       "2     UFC Fight Night: Vera vs. Sandhagen  March 25, 2023   Nate Landwehr   \n",
       "3     UFC Fight Night: Vera vs. Sandhagen  March 25, 2023   Maycee Barber   \n",
       "4     UFC Fight Night: Vera vs. Sandhagen  March 25, 2023   Albert Duraev   \n",
       "...                                   ...             ...             ...   \n",
       "7055                    UFC 2: No Way Out  March 11, 1994    Orlando Wiet   \n",
       "7056                    UFC 2: No Way Out  March 11, 1994   Frank Hamaker   \n",
       "7057                    UFC 2: No Way Out  March 11, 1994   Johnny Rhodes   \n",
       "7058                    UFC 2: No Way Out  March 11, 1994   Patrick Smith   \n",
       "7059                    UFC 2: No Way Out  March 11, 1994    Scott Morris   \n",
       "\n",
       "            Fighter1          Fighter2   KD Strikes   TD  Sub  \\\n",
       "0     Cory Sandhagen       Marlon Vera  0-0  128-58  3-0  0-1   \n",
       "1         Holly Holm       Yana Santos  0-0   32-21  4-0  0-0   \n",
       "2      Nate Landwehr      Austin Lingo  0-0   64-48  1-0  1-0   \n",
       "3      Maycee Barber        Andrea Lee  0-0   48-39  2-5  0-0   \n",
       "4      Albert Duraev    Chidi Njokuani  0-0   45-40  2-0  0-0   \n",
       "...              ...               ...  ...     ...  ...  ...   \n",
       "7055    Orlando Wiet  Robert Lucarelli  0-0     8-2  0-1  0-1   \n",
       "7056   Frank Hamaker   Thaddeus Luster  0-0     2-0  1-0  3-0   \n",
       "7057   Johnny Rhodes     David Levicki  0-0    11-4  1-0  0-0   \n",
       "7058   Patrick Smith        Ray Wizard  0-0     1-1  0-0  1-0   \n",
       "7059    Scott Morris    Sean Daugherty  0-0     1-0  1-0  1-0   \n",
       "\n",
       "              Weight Class                Method  Round   Time  \n",
       "0             Bantamweight                 S-DEC      5   5:00  \n",
       "1     Women's Bantamweight                 U-DEC      3   5:00  \n",
       "2            Featherweight  SUB-Rear-Naked-Choke      2   4:11  \n",
       "3        Women's Flyweight                 S-DEC      3   5:00  \n",
       "4             Middleweight                 S-DEC      3   5:00  \n",
       "...                    ...                   ...    ...    ...  \n",
       "7055           Open Weight                KO/TKO      1   2:50  \n",
       "7056           Open Weight           SUB-Keylock      1   4:52  \n",
       "7057           Open Weight        KO/TKO-Punches      1  12:13  \n",
       "7058           Open Weight  SUB-Guillotine-Choke      1   0:58  \n",
       "7059           Open Weight  SUB-Guillotine-Choke      1   0:20  \n",
       "\n",
       "[7060 rows x 13 columns]"
      ]
     },
     "execution_count": 2,
     "metadata": {},
     "output_type": "execute_result"
    }
   ],
   "source": [
    "df=pd.read_csv('ufc_event_data.csv')\n",
    "df"
   ]
  },
  {
   "cell_type": "markdown",
   "id": "6642d5fc",
   "metadata": {},
   "source": [
    "# Welcome to UFC Event dataset\n",
    "This dataset likely contains information about various UFC events that have taken place, including the fighters who participated in each event, the outcome of each fight, and statistics related to each fight. This data could be used for various purposes, such as analyzing fighter performance over time, identifying trends in the sport, and predicting future outcomes of UFC events\n",
    "\n",
    "KD: number of knockdowns\n",
    "\n",
    "Strikes: number of significant strikes landed\n",
    "\n",
    "TD: number of takedowns\n",
    "\n",
    "Sub: number of submission attempts\n",
    "\n",
    "Weight Class: the weight class of the match\n",
    "\n",
    "Method: the way in which the match ended (e.g. knockout, submission, decision)\n",
    "\n",
    "Round: the round in which the match ended\n",
    "\n",
    "Time: the time in the round when the match ended"
   ]
  },
  {
   "cell_type": "markdown",
   "id": "6cc8ad04",
   "metadata": {},
   "source": [
    "# Let start with our project firstly we have read data properly to understand what's in this datasets so we see first and last 5 rows of the dataset"
   ]
  },
  {
   "cell_type": "code",
   "execution_count": 3,
   "id": "bd81f44e",
   "metadata": {},
   "outputs": [
    {
     "data": {
      "text/html": [
       "<div>\n",
       "<style scoped>\n",
       "    .dataframe tbody tr th:only-of-type {\n",
       "        vertical-align: middle;\n",
       "    }\n",
       "\n",
       "    .dataframe tbody tr th {\n",
       "        vertical-align: top;\n",
       "    }\n",
       "\n",
       "    .dataframe thead th {\n",
       "        text-align: right;\n",
       "    }\n",
       "</style>\n",
       "<table border=\"1\" class=\"dataframe\">\n",
       "  <thead>\n",
       "    <tr style=\"text-align: right;\">\n",
       "      <th></th>\n",
       "      <th>Event Name</th>\n",
       "      <th>Event Date</th>\n",
       "      <th>Result</th>\n",
       "      <th>Fighter1</th>\n",
       "      <th>Fighter2</th>\n",
       "      <th>KD</th>\n",
       "      <th>Strikes</th>\n",
       "      <th>TD</th>\n",
       "      <th>Sub</th>\n",
       "      <th>Weight Class</th>\n",
       "      <th>Method</th>\n",
       "      <th>Round</th>\n",
       "      <th>Time</th>\n",
       "    </tr>\n",
       "  </thead>\n",
       "  <tbody>\n",
       "    <tr>\n",
       "      <th>0</th>\n",
       "      <td>UFC Fight Night: Vera vs. Sandhagen</td>\n",
       "      <td>March 25, 2023</td>\n",
       "      <td>Cory Sandhagen</td>\n",
       "      <td>Cory Sandhagen</td>\n",
       "      <td>Marlon Vera</td>\n",
       "      <td>0-0</td>\n",
       "      <td>128-58</td>\n",
       "      <td>3-0</td>\n",
       "      <td>0-1</td>\n",
       "      <td>Bantamweight</td>\n",
       "      <td>S-DEC</td>\n",
       "      <td>5</td>\n",
       "      <td>5:00</td>\n",
       "    </tr>\n",
       "    <tr>\n",
       "      <th>1</th>\n",
       "      <td>UFC Fight Night: Vera vs. Sandhagen</td>\n",
       "      <td>March 25, 2023</td>\n",
       "      <td>Holly Holm</td>\n",
       "      <td>Holly Holm</td>\n",
       "      <td>Yana Santos</td>\n",
       "      <td>0-0</td>\n",
       "      <td>32-21</td>\n",
       "      <td>4-0</td>\n",
       "      <td>0-0</td>\n",
       "      <td>Women's Bantamweight</td>\n",
       "      <td>U-DEC</td>\n",
       "      <td>3</td>\n",
       "      <td>5:00</td>\n",
       "    </tr>\n",
       "    <tr>\n",
       "      <th>2</th>\n",
       "      <td>UFC Fight Night: Vera vs. Sandhagen</td>\n",
       "      <td>March 25, 2023</td>\n",
       "      <td>Nate Landwehr</td>\n",
       "      <td>Nate Landwehr</td>\n",
       "      <td>Austin Lingo</td>\n",
       "      <td>0-0</td>\n",
       "      <td>64-48</td>\n",
       "      <td>1-0</td>\n",
       "      <td>1-0</td>\n",
       "      <td>Featherweight</td>\n",
       "      <td>SUB-Rear-Naked-Choke</td>\n",
       "      <td>2</td>\n",
       "      <td>4:11</td>\n",
       "    </tr>\n",
       "    <tr>\n",
       "      <th>3</th>\n",
       "      <td>UFC Fight Night: Vera vs. Sandhagen</td>\n",
       "      <td>March 25, 2023</td>\n",
       "      <td>Maycee Barber</td>\n",
       "      <td>Maycee Barber</td>\n",
       "      <td>Andrea Lee</td>\n",
       "      <td>0-0</td>\n",
       "      <td>48-39</td>\n",
       "      <td>2-5</td>\n",
       "      <td>0-0</td>\n",
       "      <td>Women's Flyweight</td>\n",
       "      <td>S-DEC</td>\n",
       "      <td>3</td>\n",
       "      <td>5:00</td>\n",
       "    </tr>\n",
       "    <tr>\n",
       "      <th>4</th>\n",
       "      <td>UFC Fight Night: Vera vs. Sandhagen</td>\n",
       "      <td>March 25, 2023</td>\n",
       "      <td>Albert Duraev</td>\n",
       "      <td>Albert Duraev</td>\n",
       "      <td>Chidi Njokuani</td>\n",
       "      <td>0-0</td>\n",
       "      <td>45-40</td>\n",
       "      <td>2-0</td>\n",
       "      <td>0-0</td>\n",
       "      <td>Middleweight</td>\n",
       "      <td>S-DEC</td>\n",
       "      <td>3</td>\n",
       "      <td>5:00</td>\n",
       "    </tr>\n",
       "  </tbody>\n",
       "</table>\n",
       "</div>"
      ],
      "text/plain": [
       "                            Event Name      Event Date          Result  \\\n",
       "0  UFC Fight Night: Vera vs. Sandhagen  March 25, 2023  Cory Sandhagen   \n",
       "1  UFC Fight Night: Vera vs. Sandhagen  March 25, 2023      Holly Holm   \n",
       "2  UFC Fight Night: Vera vs. Sandhagen  March 25, 2023   Nate Landwehr   \n",
       "3  UFC Fight Night: Vera vs. Sandhagen  March 25, 2023   Maycee Barber   \n",
       "4  UFC Fight Night: Vera vs. Sandhagen  March 25, 2023   Albert Duraev   \n",
       "\n",
       "         Fighter1        Fighter2   KD Strikes   TD  Sub  \\\n",
       "0  Cory Sandhagen     Marlon Vera  0-0  128-58  3-0  0-1   \n",
       "1      Holly Holm     Yana Santos  0-0   32-21  4-0  0-0   \n",
       "2   Nate Landwehr    Austin Lingo  0-0   64-48  1-0  1-0   \n",
       "3   Maycee Barber      Andrea Lee  0-0   48-39  2-5  0-0   \n",
       "4   Albert Duraev  Chidi Njokuani  0-0   45-40  2-0  0-0   \n",
       "\n",
       "           Weight Class                Method  Round  Time  \n",
       "0          Bantamweight                 S-DEC      5  5:00  \n",
       "1  Women's Bantamweight                 U-DEC      3  5:00  \n",
       "2         Featherweight  SUB-Rear-Naked-Choke      2  4:11  \n",
       "3     Women's Flyweight                 S-DEC      3  5:00  \n",
       "4          Middleweight                 S-DEC      3  5:00  "
      ]
     },
     "execution_count": 3,
     "metadata": {},
     "output_type": "execute_result"
    }
   ],
   "source": [
    "df.head()"
   ]
  },
  {
   "cell_type": "code",
   "execution_count": 4,
   "id": "d7e4ee14",
   "metadata": {},
   "outputs": [
    {
     "data": {
      "text/html": [
       "<div>\n",
       "<style scoped>\n",
       "    .dataframe tbody tr th:only-of-type {\n",
       "        vertical-align: middle;\n",
       "    }\n",
       "\n",
       "    .dataframe tbody tr th {\n",
       "        vertical-align: top;\n",
       "    }\n",
       "\n",
       "    .dataframe thead th {\n",
       "        text-align: right;\n",
       "    }\n",
       "</style>\n",
       "<table border=\"1\" class=\"dataframe\">\n",
       "  <thead>\n",
       "    <tr style=\"text-align: right;\">\n",
       "      <th></th>\n",
       "      <th>Event Name</th>\n",
       "      <th>Event Date</th>\n",
       "      <th>Result</th>\n",
       "      <th>Fighter1</th>\n",
       "      <th>Fighter2</th>\n",
       "      <th>KD</th>\n",
       "      <th>Strikes</th>\n",
       "      <th>TD</th>\n",
       "      <th>Sub</th>\n",
       "      <th>Weight Class</th>\n",
       "      <th>Method</th>\n",
       "      <th>Round</th>\n",
       "      <th>Time</th>\n",
       "    </tr>\n",
       "  </thead>\n",
       "  <tbody>\n",
       "    <tr>\n",
       "      <th>7055</th>\n",
       "      <td>UFC 2: No Way Out</td>\n",
       "      <td>March 11, 1994</td>\n",
       "      <td>Orlando Wiet</td>\n",
       "      <td>Orlando Wiet</td>\n",
       "      <td>Robert Lucarelli</td>\n",
       "      <td>0-0</td>\n",
       "      <td>8-2</td>\n",
       "      <td>0-1</td>\n",
       "      <td>0-1</td>\n",
       "      <td>Open Weight</td>\n",
       "      <td>KO/TKO</td>\n",
       "      <td>1</td>\n",
       "      <td>2:50</td>\n",
       "    </tr>\n",
       "    <tr>\n",
       "      <th>7056</th>\n",
       "      <td>UFC 2: No Way Out</td>\n",
       "      <td>March 11, 1994</td>\n",
       "      <td>Frank Hamaker</td>\n",
       "      <td>Frank Hamaker</td>\n",
       "      <td>Thaddeus Luster</td>\n",
       "      <td>0-0</td>\n",
       "      <td>2-0</td>\n",
       "      <td>1-0</td>\n",
       "      <td>3-0</td>\n",
       "      <td>Open Weight</td>\n",
       "      <td>SUB-Keylock</td>\n",
       "      <td>1</td>\n",
       "      <td>4:52</td>\n",
       "    </tr>\n",
       "    <tr>\n",
       "      <th>7057</th>\n",
       "      <td>UFC 2: No Way Out</td>\n",
       "      <td>March 11, 1994</td>\n",
       "      <td>Johnny Rhodes</td>\n",
       "      <td>Johnny Rhodes</td>\n",
       "      <td>David Levicki</td>\n",
       "      <td>0-0</td>\n",
       "      <td>11-4</td>\n",
       "      <td>1-0</td>\n",
       "      <td>0-0</td>\n",
       "      <td>Open Weight</td>\n",
       "      <td>KO/TKO-Punches</td>\n",
       "      <td>1</td>\n",
       "      <td>12:13</td>\n",
       "    </tr>\n",
       "    <tr>\n",
       "      <th>7058</th>\n",
       "      <td>UFC 2: No Way Out</td>\n",
       "      <td>March 11, 1994</td>\n",
       "      <td>Patrick Smith</td>\n",
       "      <td>Patrick Smith</td>\n",
       "      <td>Ray Wizard</td>\n",
       "      <td>0-0</td>\n",
       "      <td>1-1</td>\n",
       "      <td>0-0</td>\n",
       "      <td>1-0</td>\n",
       "      <td>Open Weight</td>\n",
       "      <td>SUB-Guillotine-Choke</td>\n",
       "      <td>1</td>\n",
       "      <td>0:58</td>\n",
       "    </tr>\n",
       "    <tr>\n",
       "      <th>7059</th>\n",
       "      <td>UFC 2: No Way Out</td>\n",
       "      <td>March 11, 1994</td>\n",
       "      <td>Scott Morris</td>\n",
       "      <td>Scott Morris</td>\n",
       "      <td>Sean Daugherty</td>\n",
       "      <td>0-0</td>\n",
       "      <td>1-0</td>\n",
       "      <td>1-0</td>\n",
       "      <td>1-0</td>\n",
       "      <td>Open Weight</td>\n",
       "      <td>SUB-Guillotine-Choke</td>\n",
       "      <td>1</td>\n",
       "      <td>0:20</td>\n",
       "    </tr>\n",
       "  </tbody>\n",
       "</table>\n",
       "</div>"
      ],
      "text/plain": [
       "             Event Name      Event Date         Result       Fighter1  \\\n",
       "7055  UFC 2: No Way Out  March 11, 1994   Orlando Wiet   Orlando Wiet   \n",
       "7056  UFC 2: No Way Out  March 11, 1994  Frank Hamaker  Frank Hamaker   \n",
       "7057  UFC 2: No Way Out  March 11, 1994  Johnny Rhodes  Johnny Rhodes   \n",
       "7058  UFC 2: No Way Out  March 11, 1994  Patrick Smith  Patrick Smith   \n",
       "7059  UFC 2: No Way Out  March 11, 1994   Scott Morris   Scott Morris   \n",
       "\n",
       "              Fighter2   KD Strikes   TD  Sub Weight Class  \\\n",
       "7055  Robert Lucarelli  0-0     8-2  0-1  0-1  Open Weight   \n",
       "7056   Thaddeus Luster  0-0     2-0  1-0  3-0  Open Weight   \n",
       "7057     David Levicki  0-0    11-4  1-0  0-0  Open Weight   \n",
       "7058        Ray Wizard  0-0     1-1  0-0  1-0  Open Weight   \n",
       "7059    Sean Daugherty  0-0     1-0  1-0  1-0  Open Weight   \n",
       "\n",
       "                    Method  Round   Time  \n",
       "7055                KO/TKO      1   2:50  \n",
       "7056           SUB-Keylock      1   4:52  \n",
       "7057        KO/TKO-Punches      1  12:13  \n",
       "7058  SUB-Guillotine-Choke      1   0:58  \n",
       "7059  SUB-Guillotine-Choke      1   0:20  "
      ]
     },
     "execution_count": 4,
     "metadata": {},
     "output_type": "execute_result"
    }
   ],
   "source": [
    "df.tail()"
   ]
  },
  {
   "cell_type": "markdown",
   "id": "fb7a6e60",
   "metadata": {},
   "source": [
    "# Now we can start extracting information from this dataset"
   ]
  },
  {
   "cell_type": "code",
   "execution_count": 5,
   "id": "e93e390e",
   "metadata": {},
   "outputs": [
    {
     "name": "stdout",
     "output_type": "stream",
     "text": [
      "<class 'pandas.core.frame.DataFrame'>\n",
      "RangeIndex: 7060 entries, 0 to 7059\n",
      "Data columns (total 13 columns):\n",
      " #   Column        Non-Null Count  Dtype \n",
      "---  ------        --------------  ----- \n",
      " 0   Event Name    7060 non-null   object\n",
      " 1   Event Date    7060 non-null   object\n",
      " 2   Result        7060 non-null   object\n",
      " 3   Fighter1      7060 non-null   object\n",
      " 4   Fighter2      7060 non-null   object\n",
      " 5   KD            7060 non-null   object\n",
      " 6   Strikes       7060 non-null   object\n",
      " 7   TD            7060 non-null   object\n",
      " 8   Sub           7060 non-null   object\n",
      " 9   Weight Class  7060 non-null   object\n",
      " 10  Method        7060 non-null   object\n",
      " 11  Round         7060 non-null   int64 \n",
      " 12  Time          7060 non-null   object\n",
      "dtypes: int64(1), object(12)\n",
      "memory usage: 717.2+ KB\n"
     ]
    }
   ],
   "source": [
    "df.info()"
   ]
  },
  {
   "cell_type": "markdown",
   "id": "0e3bea6c",
   "metadata": {},
   "source": [
    "This is a pandas DataFrame with 7060 rows and 13 columns\n",
    "\n",
    "All columns except Round are of object dtype, which typically indicates they are string or categorical data. The Round column is of int64 dtype. There are no null values in any of the columns. 717.2+ kb memroy has been used"
   ]
  },
  {
   "cell_type": "code",
   "execution_count": 8,
   "id": "b6e5a1e7",
   "metadata": {},
   "outputs": [
    {
     "data": {
      "text/html": [
       "<div>\n",
       "<style scoped>\n",
       "    .dataframe tbody tr th:only-of-type {\n",
       "        vertical-align: middle;\n",
       "    }\n",
       "\n",
       "    .dataframe tbody tr th {\n",
       "        vertical-align: top;\n",
       "    }\n",
       "\n",
       "    .dataframe thead th {\n",
       "        text-align: right;\n",
       "    }\n",
       "</style>\n",
       "<table border=\"1\" class=\"dataframe\">\n",
       "  <thead>\n",
       "    <tr style=\"text-align: right;\">\n",
       "      <th></th>\n",
       "      <th>Event Name</th>\n",
       "      <th>Event Date</th>\n",
       "      <th>Result</th>\n",
       "      <th>Fighter1</th>\n",
       "      <th>Fighter2</th>\n",
       "      <th>KD</th>\n",
       "      <th>Strikes</th>\n",
       "      <th>TD</th>\n",
       "      <th>Sub</th>\n",
       "      <th>Weight Class</th>\n",
       "      <th>Method</th>\n",
       "      <th>Time</th>\n",
       "    </tr>\n",
       "  </thead>\n",
       "  <tbody>\n",
       "    <tr>\n",
       "      <th>count</th>\n",
       "      <td>7060</td>\n",
       "      <td>7060</td>\n",
       "      <td>7060</td>\n",
       "      <td>7060</td>\n",
       "      <td>7060</td>\n",
       "      <td>7060</td>\n",
       "      <td>7060</td>\n",
       "      <td>7060</td>\n",
       "      <td>7060</td>\n",
       "      <td>7060</td>\n",
       "      <td>7060</td>\n",
       "      <td>7060</td>\n",
       "    </tr>\n",
       "    <tr>\n",
       "      <th>unique</th>\n",
       "      <td>640</td>\n",
       "      <td>635</td>\n",
       "      <td>1629</td>\n",
       "      <td>1638</td>\n",
       "      <td>2245</td>\n",
       "      <td>16</td>\n",
       "      <td>3618</td>\n",
       "      <td>82</td>\n",
       "      <td>47</td>\n",
       "      <td>15</td>\n",
       "      <td>71</td>\n",
       "      <td>339</td>\n",
       "    </tr>\n",
       "    <tr>\n",
       "      <th>top</th>\n",
       "      <td>UFC 2: No Way Out</td>\n",
       "      <td>November 19, 2016</td>\n",
       "      <td>Unknown</td>\n",
       "      <td>Jim Miller</td>\n",
       "      <td>Jeremy Stephens</td>\n",
       "      <td>0-0</td>\n",
       "      <td>0-0</td>\n",
       "      <td>0-0</td>\n",
       "      <td>0-0</td>\n",
       "      <td>Lightweight</td>\n",
       "      <td>U-DEC</td>\n",
       "      <td>5:00</td>\n",
       "    </tr>\n",
       "    <tr>\n",
       "      <th>freq</th>\n",
       "      <td>15</td>\n",
       "      <td>25</td>\n",
       "      <td>71</td>\n",
       "      <td>25</td>\n",
       "      <td>19</td>\n",
       "      <td>4559</td>\n",
       "      <td>29</td>\n",
       "      <td>1891</td>\n",
       "      <td>3957</td>\n",
       "      <td>1237</td>\n",
       "      <td>2464</td>\n",
       "      <td>3280</td>\n",
       "    </tr>\n",
       "  </tbody>\n",
       "</table>\n",
       "</div>"
      ],
      "text/plain": [
       "               Event Name         Event Date   Result    Fighter1  \\\n",
       "count                7060               7060     7060        7060   \n",
       "unique                640                635     1629        1638   \n",
       "top     UFC 2: No Way Out  November 19, 2016  Unknown  Jim Miller   \n",
       "freq                   15                 25       71          25   \n",
       "\n",
       "               Fighter2    KD Strikes    TD   Sub Weight Class Method  Time  \n",
       "count              7060  7060    7060  7060  7060         7060   7060  7060  \n",
       "unique             2245    16    3618    82    47           15     71   339  \n",
       "top     Jeremy Stephens   0-0     0-0   0-0   0-0  Lightweight  U-DEC  5:00  \n",
       "freq                 19  4559      29  1891  3957         1237   2464  3280  "
      ]
     },
     "execution_count": 8,
     "metadata": {},
     "output_type": "execute_result"
    }
   ],
   "source": [
    "df.describe(include='O')"
   ]
  },
  {
   "cell_type": "markdown",
   "id": "fdcb82ba",
   "metadata": {},
   "source": [
    "There are 7060 rows in the dataset.\n",
    "There are 640 unique event names and 635 unique event dates.\n",
    "There are 1629 fights where the result is \"Unknown\".\n",
    "The most common fighter in the dataset is Jim Miller, who appears in 25 fights.\n",
    "The most common weight class is Lightweight.\n",
    "The most common method of winning a fight is Unanimous Decision.\n",
    "The most common time at which fights end is 5:00."
   ]
  },
  {
   "cell_type": "code",
   "execution_count": 9,
   "id": "fe7698e5",
   "metadata": {},
   "outputs": [
    {
     "data": {
      "text/plain": [
       "Event Name       640\n",
       "Event Date       635\n",
       "Result          1629\n",
       "Fighter1        1638\n",
       "Fighter2        2245\n",
       "KD                16\n",
       "Strikes         3618\n",
       "TD                82\n",
       "Sub               47\n",
       "Weight Class      15\n",
       "Method            71\n",
       "Round              5\n",
       "Time             339\n",
       "dtype: int64"
      ]
     },
     "execution_count": 9,
     "metadata": {},
     "output_type": "execute_result"
    }
   ],
   "source": [
    "df.nunique()"
   ]
  },
  {
   "cell_type": "markdown",
   "id": "db6313bd",
   "metadata": {},
   "source": [
    "# Data cleaning and processing"
   ]
  },
  {
   "cell_type": "code",
   "execution_count": 146,
   "id": "f0f852dc",
   "metadata": {},
   "outputs": [
    {
     "data": {
      "text/plain": [
       "Event Name      0.00000\n",
       "Event Date      0.00000\n",
       "Result          0.00000\n",
       "Fighter1        0.00000\n",
       "Fighter2        0.00000\n",
       "KD              0.00000\n",
       "Strikes         0.29745\n",
       "TD              0.00000\n",
       "Sub             0.00000\n",
       "Weight Class    0.00000\n",
       "Method          0.00000\n",
       "Round           0.00000\n",
       "Time            0.00000\n",
       "dtype: float64"
      ]
     },
     "execution_count": 146,
     "metadata": {},
     "output_type": "execute_result"
    }
   ],
   "source": [
    "df.isnull().sum()/len(df)*100"
   ]
  },
  {
   "cell_type": "markdown",
   "id": "81d2e9bc",
   "metadata": {},
   "source": [
    "As we see percentage missing values of this columns are in between 4 to 40% , so we can fill Na values using mean"
   ]
  },
  {
   "cell_type": "code",
   "execution_count": 149,
   "id": "28f74d5b",
   "metadata": {},
   "outputs": [],
   "source": [
    "df['Strikes']=df['Strikes'].astype('float')"
   ]
  },
  {
   "cell_type": "code",
   "execution_count": 150,
   "id": "38262c2a",
   "metadata": {},
   "outputs": [],
   "source": [
    "df['Strikes']=df['Strikes'].fillna(df['Strikes'].mean())"
   ]
  },
  {
   "cell_type": "code",
   "execution_count": 151,
   "id": "fd5c2ede",
   "metadata": {},
   "outputs": [
    {
     "data": {
      "text/plain": [
       "Event Name      0.0\n",
       "Event Date      0.0\n",
       "Result          0.0\n",
       "Fighter1        0.0\n",
       "Fighter2        0.0\n",
       "KD              0.0\n",
       "Strikes         0.0\n",
       "TD              0.0\n",
       "Sub             0.0\n",
       "Weight Class    0.0\n",
       "Method          0.0\n",
       "Round           0.0\n",
       "Time            0.0\n",
       "dtype: float64"
      ]
     },
     "execution_count": 151,
     "metadata": {},
     "output_type": "execute_result"
    }
   ],
   "source": [
    "df.isnull().sum()/len(df)*100"
   ]
  },
  {
   "cell_type": "markdown",
   "id": "d330f135",
   "metadata": {},
   "source": [
    "We sucessfully fill the null values as now there is null values present in this datasets"
   ]
  },
  {
   "cell_type": "code",
   "execution_count": 154,
   "id": "f3c600ae",
   "metadata": {},
   "outputs": [
    {
     "name": "stdout",
     "output_type": "stream",
     "text": [
      "<class 'pandas.core.frame.DataFrame'>\n",
      "RangeIndex: 7060 entries, 0 to 7059\n",
      "Data columns (total 13 columns):\n",
      " #   Column        Non-Null Count  Dtype  \n",
      "---  ------        --------------  -----  \n",
      " 0   Event Name    7060 non-null   object \n",
      " 1   Event Date    7060 non-null   object \n",
      " 2   Result        7060 non-null   object \n",
      " 3   Fighter1      7060 non-null   object \n",
      " 4   Fighter2      7060 non-null   object \n",
      " 5   KD            7060 non-null   object \n",
      " 6   Strikes       7060 non-null   float64\n",
      " 7   TD            7060 non-null   object \n",
      " 8   Sub           7060 non-null   object \n",
      " 9   Weight Class  7060 non-null   object \n",
      " 10  Method        7060 non-null   object \n",
      " 11  Round         7060 non-null   int64  \n",
      " 12  Time          7060 non-null   object \n",
      "dtypes: float64(1), int64(1), object(11)\n",
      "memory usage: 717.2+ KB\n"
     ]
    }
   ],
   "source": [
    "df.info()"
   ]
  },
  {
   "cell_type": "markdown",
   "id": "5e55ac8b",
   "metadata": {},
   "source": [
    "# Analyzing dataset using charts and plots"
   ]
  },
  {
   "cell_type": "markdown",
   "id": "590b34cf",
   "metadata": {},
   "source": [
    "# 1.How many fights have taken place in each weight class?"
   ]
  },
  {
   "cell_type": "code",
   "execution_count": 155,
   "id": "54d4a8df",
   "metadata": {},
   "outputs": [
    {
     "data": {
      "image/png": "[encoded data removed]",
      "text/plain": [
       "<Figure size 640x480 with 1 Axes>"
      ]
     },
     "metadata": {},
     "output_type": "display_data"
    }
   ],
   "source": [
    "df['Weight Class'].value_counts().plot(kind='bar')\n",
    "plt.show()"
   ]
  },
  {
   "cell_type": "markdown",
   "id": "dc689d3a",
   "metadata": {},
   "source": [
    "# 2.Who are the top 10 fighters with the most wins?"
   ]
  },
  {
   "cell_type": "code",
   "execution_count": 156,
   "id": "bc5d7403",
   "metadata": {},
   "outputs": [
    {
     "data": {
      "text/plain": [
       "Unknown            71\n",
       "Draw               55\n",
       "Jim Miller         24\n",
       "Andrei Arlovski    23\n",
       "Donald Cerrone     23\n",
       "                   ..\n",
       "Willie Gates        1\n",
       "Cody Pfister        1\n",
       "Tony Sims           1\n",
       "Sirwan Kakai        1\n",
       "Scott Morris        1\n",
       "Name: Result, Length: 1629, dtype: int64"
      ]
     },
     "execution_count": 156,
     "metadata": {},
     "output_type": "execute_result"
    }
   ],
   "source": [
    "df['Result'].value_counts()"
   ]
  },
  {
   "cell_type": "code",
   "execution_count": 157,
   "id": "558c9d41",
   "metadata": {},
   "outputs": [],
   "source": [
    "top10=df.groupby(['Result','Fighter1']).size().reset_index(name='count')"
   ]
  },
  {
   "cell_type": "code",
   "execution_count": 158,
   "id": "ebe09fee",
   "metadata": {},
   "outputs": [
    {
     "data": {
      "text/html": [
       "<div>\n",
       "<style scoped>\n",
       "    .dataframe tbody tr th:only-of-type {\n",
       "        vertical-align: middle;\n",
       "    }\n",
       "\n",
       "    .dataframe tbody tr th {\n",
       "        vertical-align: top;\n",
       "    }\n",
       "\n",
       "    .dataframe thead th {\n",
       "        text-align: right;\n",
       "    }\n",
       "</style>\n",
       "<table border=\"1\" class=\"dataframe\">\n",
       "  <thead>\n",
       "    <tr style=\"text-align: right;\">\n",
       "      <th></th>\n",
       "      <th>Result</th>\n",
       "      <th>Fighter1</th>\n",
       "      <th>count</th>\n",
       "    </tr>\n",
       "  </thead>\n",
       "  <tbody>\n",
       "    <tr>\n",
       "      <th>760</th>\n",
       "      <td>Jim Miller</td>\n",
       "      <td>Jim Miller</td>\n",
       "      <td>24</td>\n",
       "    </tr>\n",
       "    <tr>\n",
       "      <th>88</th>\n",
       "      <td>Andrei Arlovski</td>\n",
       "      <td>Andrei Arlovski</td>\n",
       "      <td>23</td>\n",
       "    </tr>\n",
       "    <tr>\n",
       "      <th>420</th>\n",
       "      <td>Donald Cerrone</td>\n",
       "      <td>Donald Cerrone</td>\n",
       "      <td>23</td>\n",
       "    </tr>\n",
       "    <tr>\n",
       "      <th>392</th>\n",
       "      <td>Demian Maia</td>\n",
       "      <td>Demian Maia</td>\n",
       "      <td>22</td>\n",
       "    </tr>\n",
       "    <tr>\n",
       "      <th>241</th>\n",
       "      <td>Charles Oliveira</td>\n",
       "      <td>Charles Oliveira</td>\n",
       "      <td>21</td>\n",
       "    </tr>\n",
       "    <tr>\n",
       "      <th>491</th>\n",
       "      <td>Dustin Poirier</td>\n",
       "      <td>Dustin Poirier</td>\n",
       "      <td>21</td>\n",
       "    </tr>\n",
       "    <tr>\n",
       "      <th>816</th>\n",
       "      <td>Jon Jones</td>\n",
       "      <td>Jon Jones</td>\n",
       "      <td>21</td>\n",
       "    </tr>\n",
       "    <tr>\n",
       "      <th>1307</th>\n",
       "      <td>Rafael Dos Anjos</td>\n",
       "      <td>Rafael Dos Anjos</td>\n",
       "      <td>21</td>\n",
       "    </tr>\n",
       "    <tr>\n",
       "      <th>1208</th>\n",
       "      <td>Neil Magny</td>\n",
       "      <td>Neil Magny</td>\n",
       "      <td>20</td>\n",
       "    </tr>\n",
       "    <tr>\n",
       "      <th>1124</th>\n",
       "      <td>Michael Bisping</td>\n",
       "      <td>Michael Bisping</td>\n",
       "      <td>20</td>\n",
       "    </tr>\n",
       "  </tbody>\n",
       "</table>\n",
       "</div>"
      ],
      "text/plain": [
       "                Result          Fighter1  count\n",
       "760         Jim Miller        Jim Miller     24\n",
       "88     Andrei Arlovski   Andrei Arlovski     23\n",
       "420     Donald Cerrone    Donald Cerrone     23\n",
       "392        Demian Maia       Demian Maia     22\n",
       "241   Charles Oliveira  Charles Oliveira     21\n",
       "491     Dustin Poirier    Dustin Poirier     21\n",
       "816          Jon Jones         Jon Jones     21\n",
       "1307  Rafael Dos Anjos  Rafael Dos Anjos     21\n",
       "1208        Neil Magny        Neil Magny     20\n",
       "1124   Michael Bisping   Michael Bisping     20"
      ]
     },
     "execution_count": 158,
     "metadata": {},
     "output_type": "execute_result"
    }
   ],
   "source": [
    "top10.sort_values('count',ascending=False).head(10)"
   ]
  },
  {
   "cell_type": "markdown",
   "id": "4e29072c",
   "metadata": {},
   "source": [
    "Thses are the top 10 fighters with most wins"
   ]
  },
  {
   "cell_type": "markdown",
   "id": "1a1af278",
   "metadata": {},
   "source": [
    "# 3. which fighter as most wins and plot graph"
   ]
  },
  {
   "cell_type": "code",
   "execution_count": 159,
   "id": "dabf07fd",
   "metadata": {},
   "outputs": [],
   "source": [
    "most_wins=top10.sort_values('count',ascending=False).head()"
   ]
  },
  {
   "cell_type": "code",
   "execution_count": 160,
   "id": "6dcf6434",
   "metadata": {},
   "outputs": [
    {
     "data": {
      "text/html": [
       "<div>\n",
       "<style scoped>\n",
       "    .dataframe tbody tr th:only-of-type {\n",
       "        vertical-align: middle;\n",
       "    }\n",
       "\n",
       "    .dataframe tbody tr th {\n",
       "        vertical-align: top;\n",
       "    }\n",
       "\n",
       "    .dataframe thead th {\n",
       "        text-align: right;\n",
       "    }\n",
       "</style>\n",
       "<table border=\"1\" class=\"dataframe\">\n",
       "  <thead>\n",
       "    <tr style=\"text-align: right;\">\n",
       "      <th></th>\n",
       "      <th>Result</th>\n",
       "      <th>Fighter1</th>\n",
       "      <th>count</th>\n",
       "    </tr>\n",
       "  </thead>\n",
       "  <tbody>\n",
       "    <tr>\n",
       "      <th>760</th>\n",
       "      <td>Jim Miller</td>\n",
       "      <td>Jim Miller</td>\n",
       "      <td>24</td>\n",
       "    </tr>\n",
       "    <tr>\n",
       "      <th>88</th>\n",
       "      <td>Andrei Arlovski</td>\n",
       "      <td>Andrei Arlovski</td>\n",
       "      <td>23</td>\n",
       "    </tr>\n",
       "    <tr>\n",
       "      <th>420</th>\n",
       "      <td>Donald Cerrone</td>\n",
       "      <td>Donald Cerrone</td>\n",
       "      <td>23</td>\n",
       "    </tr>\n",
       "    <tr>\n",
       "      <th>392</th>\n",
       "      <td>Demian Maia</td>\n",
       "      <td>Demian Maia</td>\n",
       "      <td>22</td>\n",
       "    </tr>\n",
       "    <tr>\n",
       "      <th>241</th>\n",
       "      <td>Charles Oliveira</td>\n",
       "      <td>Charles Oliveira</td>\n",
       "      <td>21</td>\n",
       "    </tr>\n",
       "  </tbody>\n",
       "</table>\n",
       "</div>"
      ],
      "text/plain": [
       "               Result          Fighter1  count\n",
       "760        Jim Miller        Jim Miller     24\n",
       "88    Andrei Arlovski   Andrei Arlovski     23\n",
       "420    Donald Cerrone    Donald Cerrone     23\n",
       "392       Demian Maia       Demian Maia     22\n",
       "241  Charles Oliveira  Charles Oliveira     21"
      ]
     },
     "execution_count": 160,
     "metadata": {},
     "output_type": "execute_result"
    }
   ],
   "source": [
    "most_wins"
   ]
  },
  {
   "cell_type": "code",
   "execution_count": 161,
   "id": "c9fa6769",
   "metadata": {},
   "outputs": [
    {
     "data": {
      "text/plain": [
       "<AxesSubplot:xlabel='Result', ylabel='count'>"
      ]
     },
     "execution_count": 161,
     "metadata": {},
     "output_type": "execute_result"
    },
    {
     "data": {
      "image/png": "[encoded data removed]",
      "text/plain": [
       "<Figure size 800x800 with 1 Axes>"
      ]
     },
     "metadata": {},
     "output_type": "display_data"
    }
   ],
   "source": [
    "plt.figure(figsize=(8,8))\n",
    "sns.barplot(x='Result',y='count',linewidth=0.3,data=most_wins)"
   ]
  },
  {
   "cell_type": "markdown",
   "id": "e0d5c386",
   "metadata": {},
   "source": [
    "'Jim Miller' has the most wins "
   ]
  },
  {
   "cell_type": "markdown",
   "id": "04cf9a95",
   "metadata": {},
   "source": [
    "# 4.What is the total number of events in the dataset?"
   ]
  },
  {
   "cell_type": "code",
   "execution_count": 162,
   "id": "0230e3cf",
   "metadata": {},
   "outputs": [
    {
     "data": {
      "text/plain": [
       "640"
      ]
     },
     "execution_count": 162,
     "metadata": {},
     "output_type": "execute_result"
    }
   ],
   "source": [
    "df['Event Name'].nunique()"
   ]
  },
  {
   "cell_type": "markdown",
   "id": "d522eae5",
   "metadata": {},
   "source": [
    "Total number of events in the dataset: 640"
   ]
  },
  {
   "cell_type": "markdown",
   "id": "41a14870",
   "metadata": {},
   "source": [
    "# 5. At what's time most of the matches are finished"
   ]
  },
  {
   "cell_type": "code",
   "execution_count": 163,
   "id": "351c0763",
   "metadata": {},
   "outputs": [
    {
     "data": {
      "text/html": [
       "<div>\n",
       "<style scoped>\n",
       "    .dataframe tbody tr th:only-of-type {\n",
       "        vertical-align: middle;\n",
       "    }\n",
       "\n",
       "    .dataframe tbody tr th {\n",
       "        vertical-align: top;\n",
       "    }\n",
       "\n",
       "    .dataframe thead th {\n",
       "        text-align: right;\n",
       "    }\n",
       "</style>\n",
       "<table border=\"1\" class=\"dataframe\">\n",
       "  <thead>\n",
       "    <tr style=\"text-align: right;\">\n",
       "      <th></th>\n",
       "      <th>index</th>\n",
       "      <th>counts</th>\n",
       "    </tr>\n",
       "  </thead>\n",
       "  <tbody>\n",
       "    <tr>\n",
       "      <th>0</th>\n",
       "      <td>5:00</td>\n",
       "      <td>3280</td>\n",
       "    </tr>\n",
       "    <tr>\n",
       "      <th>1</th>\n",
       "      <td>4:59</td>\n",
       "      <td>43</td>\n",
       "    </tr>\n",
       "    <tr>\n",
       "      <th>2</th>\n",
       "      <td>3:00</td>\n",
       "      <td>37</td>\n",
       "    </tr>\n",
       "    <tr>\n",
       "      <th>3</th>\n",
       "      <td>2:38</td>\n",
       "      <td>28</td>\n",
       "    </tr>\n",
       "    <tr>\n",
       "      <th>4</th>\n",
       "      <td>1:54</td>\n",
       "      <td>26</td>\n",
       "    </tr>\n",
       "  </tbody>\n",
       "</table>\n",
       "</div>"
      ],
      "text/plain": [
       "  index  counts\n",
       "0  5:00    3280\n",
       "1  4:59      43\n",
       "2  3:00      37\n",
       "3  2:38      28\n",
       "4  1:54      26"
      ]
     },
     "execution_count": 163,
     "metadata": {},
     "output_type": "execute_result"
    }
   ],
   "source": [
    "df['Time'].value_counts().reset_index(name='counts').sort_values('counts',ascending=False).head()"
   ]
  },
  {
   "cell_type": "markdown",
   "id": "da434e0c",
   "metadata": {},
   "source": [
    "# 6. From which mehtod most matches are wins?"
   ]
  },
  {
   "cell_type": "code",
   "execution_count": 164,
   "id": "3b256366",
   "metadata": {},
   "outputs": [
    {
     "data": {
      "text/html": [
       "<div>\n",
       "<style scoped>\n",
       "    .dataframe tbody tr th:only-of-type {\n",
       "        vertical-align: middle;\n",
       "    }\n",
       "\n",
       "    .dataframe tbody tr th {\n",
       "        vertical-align: top;\n",
       "    }\n",
       "\n",
       "    .dataframe thead th {\n",
       "        text-align: right;\n",
       "    }\n",
       "</style>\n",
       "<table border=\"1\" class=\"dataframe\">\n",
       "  <thead>\n",
       "    <tr style=\"text-align: right;\">\n",
       "      <th></th>\n",
       "      <th>index</th>\n",
       "      <th>count</th>\n",
       "    </tr>\n",
       "  </thead>\n",
       "  <tbody>\n",
       "    <tr>\n",
       "      <th>0</th>\n",
       "      <td>U-DEC</td>\n",
       "      <td>2464</td>\n",
       "    </tr>\n",
       "    <tr>\n",
       "      <th>1</th>\n",
       "      <td>KO/TKO-Punches</td>\n",
       "      <td>870</td>\n",
       "    </tr>\n",
       "    <tr>\n",
       "      <th>2</th>\n",
       "      <td>KO/TKO-Punch</td>\n",
       "      <td>769</td>\n",
       "    </tr>\n",
       "    <tr>\n",
       "      <th>3</th>\n",
       "      <td>S-DEC</td>\n",
       "      <td>674</td>\n",
       "    </tr>\n",
       "    <tr>\n",
       "      <th>4</th>\n",
       "      <td>SUB-Rear-Naked-Choke</td>\n",
       "      <td>536</td>\n",
       "    </tr>\n",
       "    <tr>\n",
       "      <th>...</th>\n",
       "      <td>...</td>\n",
       "      <td>...</td>\n",
       "    </tr>\n",
       "    <tr>\n",
       "      <th>61</th>\n",
       "      <td>Overturned-Triangle-Choke</td>\n",
       "      <td>1</td>\n",
       "    </tr>\n",
       "    <tr>\n",
       "      <th>60</th>\n",
       "      <td>DQ-Rear-Naked-Choke</td>\n",
       "      <td>1</td>\n",
       "    </tr>\n",
       "    <tr>\n",
       "      <th>59</th>\n",
       "      <td>Overturned-Kick</td>\n",
       "      <td>1</td>\n",
       "    </tr>\n",
       "    <tr>\n",
       "      <th>58</th>\n",
       "      <td>Overturned-D'Arce-Choke</td>\n",
       "      <td>1</td>\n",
       "    </tr>\n",
       "    <tr>\n",
       "      <th>70</th>\n",
       "      <td>SUB</td>\n",
       "      <td>1</td>\n",
       "    </tr>\n",
       "  </tbody>\n",
       "</table>\n",
       "<p>71 rows × 2 columns</p>\n",
       "</div>"
      ],
      "text/plain": [
       "                        index  count\n",
       "0                       U-DEC   2464\n",
       "1              KO/TKO-Punches    870\n",
       "2                KO/TKO-Punch    769\n",
       "3                       S-DEC    674\n",
       "4        SUB-Rear-Naked-Choke    536\n",
       "..                        ...    ...\n",
       "61  Overturned-Triangle-Choke      1\n",
       "60        DQ-Rear-Naked-Choke      1\n",
       "59            Overturned-Kick      1\n",
       "58    Overturned-D'Arce-Choke      1\n",
       "70                        SUB      1\n",
       "\n",
       "[71 rows x 2 columns]"
      ]
     },
     "execution_count": 164,
     "metadata": {},
     "output_type": "execute_result"
    }
   ],
   "source": [
    "df['Method'].value_counts().reset_index(name='count').sort_values('count',ascending=False)\n"
   ]
  },
  {
   "cell_type": "markdown",
   "id": "6f3128ab",
   "metadata": {},
   "source": [
    "# 7. which fighters have highest clashes between them"
   ]
  },
  {
   "cell_type": "code",
   "execution_count": 165,
   "id": "9dd186fc",
   "metadata": {},
   "outputs": [
    {
     "data": {
      "text/html": [
       "<div>\n",
       "<style scoped>\n",
       "    .dataframe tbody tr th:only-of-type {\n",
       "        vertical-align: middle;\n",
       "    }\n",
       "\n",
       "    .dataframe tbody tr th {\n",
       "        vertical-align: top;\n",
       "    }\n",
       "\n",
       "    .dataframe thead th {\n",
       "        text-align: right;\n",
       "    }\n",
       "</style>\n",
       "<table border=\"1\" class=\"dataframe\">\n",
       "  <thead>\n",
       "    <tr style=\"text-align: right;\">\n",
       "      <th></th>\n",
       "      <th>Fighter1</th>\n",
       "      <th>Fighter2</th>\n",
       "      <th>no.of matches played</th>\n",
       "    </tr>\n",
       "  </thead>\n",
       "  <tbody>\n",
       "    <tr>\n",
       "      <th>0</th>\n",
       "      <td>Frankie Edgar</td>\n",
       "      <td>BJ Penn</td>\n",
       "      <td>3</td>\n",
       "    </tr>\n",
       "    <tr>\n",
       "      <th>1</th>\n",
       "      <td>Tito Ortiz</td>\n",
       "      <td>Ken Shamrock</td>\n",
       "      <td>3</td>\n",
       "    </tr>\n",
       "    <tr>\n",
       "      <th>2</th>\n",
       "      <td>Alexander Volkanovski</td>\n",
       "      <td>Max Holloway</td>\n",
       "      <td>3</td>\n",
       "    </tr>\n",
       "    <tr>\n",
       "      <th>3</th>\n",
       "      <td>Phil Davis</td>\n",
       "      <td>Wagner Prado</td>\n",
       "      <td>2</td>\n",
       "    </tr>\n",
       "    <tr>\n",
       "      <th>4</th>\n",
       "      <td>Matt Lindland</td>\n",
       "      <td>Phil Baroni</td>\n",
       "      <td>2</td>\n",
       "    </tr>\n",
       "    <tr>\n",
       "      <th>...</th>\n",
       "      <td>...</td>\n",
       "      <td>...</td>\n",
       "      <td>...</td>\n",
       "    </tr>\n",
       "    <tr>\n",
       "      <th>6940</th>\n",
       "      <td>Gabriel Gonzaga</td>\n",
       "      <td>Chris Tuchscherer</td>\n",
       "      <td>1</td>\n",
       "    </tr>\n",
       "    <tr>\n",
       "      <th>6941</th>\n",
       "      <td>Gabriel Gonzaga</td>\n",
       "      <td>Carmelo Marrero</td>\n",
       "      <td>1</td>\n",
       "    </tr>\n",
       "    <tr>\n",
       "      <th>6942</th>\n",
       "      <td>Gabriel Gonzaga</td>\n",
       "      <td>Ben Rothwell</td>\n",
       "      <td>1</td>\n",
       "    </tr>\n",
       "    <tr>\n",
       "      <th>6943</th>\n",
       "      <td>Gabriel Bonfim</td>\n",
       "      <td>Mounir Lazzez</td>\n",
       "      <td>1</td>\n",
       "    </tr>\n",
       "    <tr>\n",
       "      <th>6944</th>\n",
       "      <td>Zubaira Tukhugov</td>\n",
       "      <td>Ricardo Ramos</td>\n",
       "      <td>1</td>\n",
       "    </tr>\n",
       "  </tbody>\n",
       "</table>\n",
       "<p>6945 rows × 3 columns</p>\n",
       "</div>"
      ],
      "text/plain": [
       "                   Fighter1           Fighter2  no.of matches played\n",
       "0             Frankie Edgar            BJ Penn                     3\n",
       "1                Tito Ortiz       Ken Shamrock                     3\n",
       "2     Alexander Volkanovski       Max Holloway                     3\n",
       "3                Phil Davis       Wagner Prado                     2\n",
       "4             Matt Lindland        Phil Baroni                     2\n",
       "...                     ...                ...                   ...\n",
       "6940        Gabriel Gonzaga  Chris Tuchscherer                     1\n",
       "6941        Gabriel Gonzaga    Carmelo Marrero                     1\n",
       "6942        Gabriel Gonzaga       Ben Rothwell                     1\n",
       "6943         Gabriel Bonfim      Mounir Lazzez                     1\n",
       "6944       Zubaira Tukhugov      Ricardo Ramos                     1\n",
       "\n",
       "[6945 rows x 3 columns]"
      ]
     },
     "execution_count": 165,
     "metadata": {},
     "output_type": "execute_result"
    }
   ],
   "source": [
    "df.loc[:,['Fighter1','Fighter2']].value_counts().reset_index(name='no.of matches played')"
   ]
  },
  {
   "cell_type": "markdown",
   "id": "3f311bc7",
   "metadata": {},
   "source": [
    "1.'Frankie Edgar VS BJ Penn' played 3 matches\n",
    "\n",
    "2.'Tito Ortiz VS Ken Shamrock' played 3 matches\n",
    "\n",
    "3.'Alexander Volkanovski VS Max Holloway' played 3 matches"
   ]
  },
  {
   "cell_type": "markdown",
   "id": "f02c4d12",
   "metadata": {},
   "source": [
    "# 8. Which fight has minimum time "
   ]
  },
  {
   "cell_type": "code",
   "execution_count": 166,
   "id": "ac172927",
   "metadata": {},
   "outputs": [
    {
     "data": {
      "text/plain": [
       "Fighter1    AJ Fletcher\n",
       "Fighter2      AJ Dobson\n",
       "Time               0:05\n",
       "dtype: object"
      ]
     },
     "execution_count": 166,
     "metadata": {},
     "output_type": "execute_result"
    }
   ],
   "source": [
    "df.loc[:,['Fighter1','Fighter2','Time']].min()"
   ]
  },
  {
   "cell_type": "markdown",
   "id": "f5a1d21c",
   "metadata": {},
   "source": [
    "Fight between 'AJ Fletcher Vs AJ Dobson' had minimum time about 0:05"
   ]
  },
  {
   "cell_type": "markdown",
   "id": "3b58a4ab",
   "metadata": {},
   "source": [
    "# 9.Which fight has maximum time"
   ]
  },
  {
   "cell_type": "code",
   "execution_count": 167,
   "id": "56c2d6ab",
   "metadata": {},
   "outputs": [
    {
     "data": {
      "text/plain": [
       "Fighter1    Zubaira Tukhugov\n",
       "Fighter2    Zviad Lazishvili\n",
       "Time                    9:56\n",
       "dtype: object"
      ]
     },
     "execution_count": 167,
     "metadata": {},
     "output_type": "execute_result"
    }
   ],
   "source": [
    "df.loc[:,['Fighter1','Fighter2','Time']].max()"
   ]
  },
  {
   "cell_type": "markdown",
   "id": "9e813736",
   "metadata": {},
   "source": [
    "Fight between 'Zubaira Tukhugov Vs Zviad Lazishvili' had maximum time about 9:56 "
   ]
  },
  {
   "cell_type": "markdown",
   "id": "80584fbb",
   "metadata": {},
   "source": [
    "# 10. which fight has maximum and minimum strikes"
   ]
  },
  {
   "cell_type": "code",
   "execution_count": 170,
   "id": "47ec7776",
   "metadata": {},
   "outputs": [
    {
     "data": {
      "text/plain": [
       "Fighter1    Zubaira Tukhugov\n",
       "Fighter2    Zviad Lazishvili\n",
       "Strikes                445.0\n",
       "dtype: object"
      ]
     },
     "execution_count": 170,
     "metadata": {},
     "output_type": "execute_result"
    }
   ],
   "source": [
    "df.loc[:,['Fighter1','Fighter2','Strikes']].max()"
   ]
  },
  {
   "cell_type": "markdown",
   "id": "a4ad2bdf",
   "metadata": {},
   "source": [
    "Fight between 'Zubaira Tukhugov Vs Zviad Lazishvili' had maximum strikes about 445 strikes"
   ]
  },
  {
   "cell_type": "code",
   "execution_count": 171,
   "id": "2a6228b8",
   "metadata": {},
   "outputs": [
    {
     "data": {
      "text/plain": [
       "Fighter1    AJ Fletcher\n",
       "Fighter2      AJ Dobson\n",
       "Strikes             0.0\n",
       "dtype: object"
      ]
     },
     "execution_count": 171,
     "metadata": {},
     "output_type": "execute_result"
    }
   ],
   "source": [
    "df.loc[:,['Fighter1','Fighter2','Strikes']].min()"
   ]
  },
  {
   "cell_type": "markdown",
   "id": "77a7db28",
   "metadata": {},
   "source": [
    "Fight between 'AJ Fletcher Vs AJ Dobson' had minimum strikes about 0.0 strikes"
   ]
  },
  {
   "cell_type": "code",
   "execution_count": null,
   "id": "41fccabf",
   "metadata": {},
   "outputs": [],
   "source": []
  }
 ],
 "metadata": {
  "kernelspec": {
   "display_name": "Python 3 (ipykernel)",
   "language": "python",
   "name": "python3"
  },
  "language_info": {
   "codemirror_mode": {
    "name": "ipython",
    "version": 3
   },
   "file_extension": ".py",
   "mimetype": "text/x-python",
   "name": "python",
   "nbconvert_exporter": "python",
   "pygments_lexer": "ipython3",
   "version": "3.9.13"
  }
 },
 "nbformat": 4,
 "nbformat_minor": 5
}
